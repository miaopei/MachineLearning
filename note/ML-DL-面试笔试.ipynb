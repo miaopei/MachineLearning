{
 "cells": [
  {
   "cell_type": "markdown",
   "metadata": {},
   "source": [
    "## 1. 七月在线"
   ]
  },
  {
   "cell_type": "code",
   "execution_count": null,
   "metadata": {
    "collapsed": true
   },
   "outputs": [],
   "source": []
  },
  {
   "cell_type": "code",
   "execution_count": null,
   "metadata": {
    "collapsed": true
   },
   "outputs": [],
   "source": []
  },
  {
   "cell_type": "code",
   "execution_count": null,
   "metadata": {
    "collapsed": true
   },
   "outputs": [],
   "source": []
  },
  {
   "cell_type": "code",
   "execution_count": null,
   "metadata": {
    "collapsed": true
   },
   "outputs": [],
   "source": []
  },
  {
   "cell_type": "markdown",
   "metadata": {},
   "source": [
    "## Reference\n",
    "\n",
    "[一个框架解决几乎所有机器学习问题](https://blog.csdn.net/aliceyangxi1987/article/details/71079448)\n",
    "\n",
    "[机器学习通用框架](http://www.cnblogs.com/harvey888/p/5966637.html)\n",
    "\n",
    "[机器学习最常用优化之一——梯度下降优化算法综述](http://www.raincent.com/content-85-7948-1.html)\n",
    "\n",
    "[从构建关系网到面试最后一问，这是一份AI公司应聘全面指南](https://mp.weixin.qq.com/s?__biz=MzA3MzI4MjgzMw==&mid=2650742868&idx=1&sn=0eb9171cb14bae1f16108e68c3888b2e&chksm=871ae42ab06d6d3c8a4315998fe184130205e3aa0f5f71e3c4286245a354a0790b1faffe283f&mpshare=1&scene=24&srcid=0530Uj0MawPWqwIU0IKSEIjG#rd)\n",
    "\n",
    "[机器学习购买微信课程](http://gitbook.cn/gitchat/column/5ac2f0509e924a1dc029dd84/topic/5ac2feab9e924a1dc029e362)\n",
    "\n",
    "[]()"
   ]
  }
 ],
 "metadata": {
  "kernelspec": {
   "display_name": "Python 3",
   "language": "python",
   "name": "python3"
  },
  "language_info": {
   "codemirror_mode": {
    "name": "ipython",
    "version": 3
   },
   "file_extension": ".py",
   "mimetype": "text/x-python",
   "name": "python",
   "nbconvert_exporter": "python",
   "pygments_lexer": "ipython3",
   "version": "3.6.1"
  }
 },
 "nbformat": 4,
 "nbformat_minor": 2
}
