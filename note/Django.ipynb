{
 "cells": [
  {
   "cell_type": "markdown",
   "metadata": {},
   "source": [
    "## 1. Linux Django 安装\n",
    "\n",
    "**安装 setuptools**\n",
    "\n",
    "    sudo apt-get install python-setuptools\n",
    "    \n",
    "完成之后，就可以使用 easy_install 命令安装 django\n",
    "\n",
    "    easy_install django\n",
    "    \n",
    "Django也有自己的引导工具，它是django-admin的一部分。\n",
    "\n",
    "    django-admin startproject hello_django \n",
    "    django-admin startapp howdy # make an application within our project\n",
    "    \n",
    "    10:14:45 #25:django$ tree \n",
    "    .\n",
    "    ├── hello_django\n",
    "    │   ├── hello_django\n",
    "    │   │   ├── __init__.py\n",
    "    │   │   ├── settings.py\n",
    "    │   │   ├── urls.py\n",
    "    │   │   └── wsgi.py\n",
    "    │   └── manage.py\n",
    "    └── howdy\n",
    "        ├── admin.py\n",
    "        ├── apps.py\n",
    "        ├── __init__.py\n",
    "        ├── migrations\n",
    "        │   └── __init__.py\n",
    "        ├── models.py\n",
    "        ├── tests.py\n",
    "        └── views.py\n",
    "        \n",
    "默认情况下，Django只包含空的模型和模板文件，一个新的用户可以看一点例子代码就开始工作。它也能让开发者选择如何分配Django的应用。\n",
    "\n",
    "这个引导工具的弱点是没有引导用户去打包他们的应用，新手往往会忽视这一点。如果一个开发者从未打包过应用，他们会发现在第一次部署的时候会有点乱糟糟的。一些有较大社区的项目，如django-oscar是被打包好的，并且能在PyPi上下载，但是在Github上，一些小的项目往往缺乏统一的打包。"
   ]
  },
  {
   "cell_type": "code",
   "execution_count": null,
   "metadata": {
    "collapsed": true
   },
   "outputs": [],
   "source": []
  },
  {
   "cell_type": "code",
   "execution_count": null,
   "metadata": {
    "collapsed": true
   },
   "outputs": [],
   "source": []
  },
  {
   "cell_type": "code",
   "execution_count": null,
   "metadata": {
    "collapsed": true
   },
   "outputs": [],
   "source": []
  },
  {
   "cell_type": "code",
   "execution_count": null,
   "metadata": {
    "collapsed": true
   },
   "outputs": [],
   "source": []
  },
  {
   "cell_type": "code",
   "execution_count": null,
   "metadata": {
    "collapsed": true
   },
   "outputs": [],
   "source": []
  },
  {
   "cell_type": "code",
   "execution_count": null,
   "metadata": {
    "collapsed": true
   },
   "outputs": [],
   "source": []
  },
  {
   "cell_type": "markdown",
   "metadata": {},
   "source": [
    "## Reference\n",
    "\n",
    "* [整合 Django + Vue.js 框架快速搭建web项目](https://cloud.tencent.com/developer/article/1005607)\n",
    "\n",
    "* []()\n",
    "\n",
    "* []()\n",
    "\n",
    "* []()\n",
    "\n",
    "* []()\n",
    "\n",
    "* []()\n",
    "\n",
    "* []()\n",
    "\n",
    "* []()\n",
    "\n",
    "* []()\n",
    "\n",
    "* []()\n",
    "\n",
    "* []()\n",
    "\n",
    "* []()\n",
    "\n",
    "* []()\n",
    "\n",
    "* []()\n",
    "\n",
    "* []()\n",
    "\n",
    "* []()"
   ]
  }
 ],
 "metadata": {
  "kernelspec": {
   "display_name": "Python 3",
   "language": "python",
   "name": "python3"
  },
  "language_info": {
   "codemirror_mode": {
    "name": "ipython",
    "version": 3
   },
   "file_extension": ".py",
   "mimetype": "text/x-python",
   "name": "python",
   "nbconvert_exporter": "python",
   "pygments_lexer": "ipython3",
   "version": "3.6.1"
  }
 },
 "nbformat": 4,
 "nbformat_minor": 2
}
