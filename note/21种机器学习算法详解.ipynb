{
 "cells": [
  {
   "cell_type": "markdown",
   "metadata": {},
   "source": [
    "## 1. [决策树 - 参考：decision Tree（Python 实现）](http://blog.csdn.net/dream_angel_z/article/details/45965463)\n",
    "\n",
    "## 2. [SVM 支持向量机 - 参考：pluskid 支持向量机三重境界](http://blog.pluskid.org/?page_id=683)\n",
    "\n",
    "## 3. [Adaboost - 参考：组合算法 - Adaboost](http://blog.csdn.net/huruzun/article/details/41323065)\n",
    "\n",
    "## 4. [Random Forest - 参考：随机森林算法](http://www.cnblogs.com/wentingtu/archive/2011/12/22/2297405.html)\n",
    "\n",
    "## 5. [朴素贝叶斯算法 - 参考：Naive Bayes 算法实现](http://blog.csdn.net/dream_angel_z/article/details/46120867)\n",
    "\n",
    "## 6. [人工神经网络 - 参考：](http://www.cnblogs.com/luxiaoxun/archive/2012/12/10/2811309.html)\n",
    "\n",
    "## 7. [Apriori 算法 - 参考地址：Apriori 关联分析](http://www.csuldw.com/2015/06/04/2015-06-04-Apriori/)\n",
    "\n",
    "## 8. [K 最近邻算法 - 参考：KNN 从原理到实现](http://blog.csdn.net/dream_angel_z/article/details/45896449)\n",
    "\n",
    "## 9. [梯度树提升 GTB 算法 - 参考：Gradient Tree Boosting（或 GBRT）](http://blog.csdn.net/dream_angel_z/article/details/48085889)\n",
    "\n",
    "## 10. [K-means 聚类 - 参考：K-means cluster](http://blog.csdn.net/dream_angel_z/article/details/46343597)\n",
    "\n",
    "## 11. [组合算法总结 - 参考：Ensemble 算法总结](http://www.csuldw.com/2015/07/22/2015-07-22%20%20ensemble/)\n",
    "\n",
    "## 12. [EM 期望最大算法 - 参考：EM 算法](http://blog.csdn.net/zouxy09/article/details/8537620)\n",
    "\n",
    "## 13. [Logistic 回归 - 参考：逻辑回归](http://blog.csdn.net/wangran51/article/details/8892923)\n",
    "\n",
    "## 14. [HMM 隐马尔可夫模型，参考:HMM](http://blog.csdn.net/likelet/article/details/7056068)\n",
    "\n",
    "## 15. [条件随机场，参考：CRF](http://www.tanghuangwhu.com/archives/162)\n",
    "\n",
    "## 16. [随机森林和 GBDT，参考：决策树模型组合之随机森林与 GBDT](http://www.cnblogs.com/LeftNotEasy/archive/2011/03/07/1976562.html)\n",
    "\n",
    "## 17. [特征选择和特征提取，参考：特征提取与特征选择](http://blog.csdn.net/lanbing510/article/details/40488787)\n",
    "\n",
    "## 18. [梯度下降法，参考:gradient descent](http://blog.csdn.net/woxincd/article/details/7040944)\n",
    "\n",
    "## 19. [牛顿法，参考：牛顿法](http://blog.csdn.net/luoleicn/article/details/6527049)\n",
    "\n",
    "## 20. [线性判别分析，参考：线性判别](http://www.cnblogs.com/jerrylead/archive/2011/04/21/2024384.html)\n",
    "\n",
    "## 21. [深度学习 - 深度学习概述：从感知机到深度网络](http://www.cnblogs.com/xiaowanyer/p/3701944.html)"
   ]
  },
  {
   "cell_type": "code",
   "execution_count": null,
   "metadata": {
    "collapsed": true
   },
   "outputs": [],
   "source": []
  }
 ],
 "metadata": {
  "kernelspec": {
   "display_name": "Python 2",
   "language": "python",
   "name": "python2"
  },
  "language_info": {
   "codemirror_mode": {
    "name": "ipython",
    "version": 2
   },
   "file_extension": ".py",
   "mimetype": "text/x-python",
   "name": "python",
   "nbconvert_exporter": "python",
   "pygments_lexer": "ipython2",
   "version": "2.7.14"
  },
  "toc": {
   "nav_menu": {},
   "number_sections": true,
   "sideBar": true,
   "skip_h1_title": false,
   "toc_cell": false,
   "toc_position": {},
   "toc_section_display": "block",
   "toc_window_display": false
  }
 },
 "nbformat": 4,
 "nbformat_minor": 2
}
