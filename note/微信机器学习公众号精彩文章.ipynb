{
 "cells": [
  {
   "cell_type": "markdown",
   "metadata": {
    "collapsed": true
   },
   "source": [
    "# 已读文章\n",
    "\n",
    "[]()\n",
    "\n",
    "[]()\n",
    "\n",
    "[]()"
   ]
  },
  {
   "cell_type": "markdown",
   "metadata": {},
   "source": [
    "---\n",
    "# 未读文章\n",
    "\n",
    "---\n",
    "## 1. 入门类工具\n",
    "\n",
    "[一文学会用 Tensorflow 搭建神经网络](https://www.jianshu.com/p/e112012a4b2d)\n",
    "\n",
    "[]()\n",
    "\n",
    "[]()\n",
    "\n",
    "[]()\n",
    "\n",
    "[]()\n",
    "\n",
    "---\n",
    "## 2. 算法\n",
    "\n",
    "[轻松看懂机器学习十大常用算法](https://www.jianshu.com/p/55a67c12d3e9)\n",
    "\n",
    "[]()\n",
    "\n",
    "[]()\n",
    "\n",
    "[]()\n",
    "\n",
    "---\n",
    "## 3. 方法\n",
    "\n",
    "[常用激活函数比较](https://www.jianshu.com/p/22d9720dbf1a)\n",
    "\n",
    "[什么是 Dropout](https://www.jianshu.com/p/b5e93fa01385)\n",
    "\n",
    "[特征工程怎么做](https://www.jianshu.com/p/35135ab0a627)\n",
    "\n",
    "[机器学习算法应用中常用技巧-1](https://www.jianshu.com/p/2dd24205c2f8)\n",
    "\n",
    "[机器学习算法应用中常用技巧-2](https://www.jianshu.com/p/00243fbff314)\n",
    "\n",
    "[]()\n",
    "\n",
    "[]()\n",
    "\n",
    "---\n",
    "## 4. 框架\n",
    "\n",
    "[详解循环神经网络(Recurrent Neural Network)](https://blog.csdn.net/aliceyangxi1987/article/details/73421556)\n",
    "\n",
    "[详解 LSTM](https://www.jianshu.com/p/dcec3f07d3b5)\n",
    "\n",
    "[【译】 理解 LSTM 网络](https://www.jianshu.com/p/9dc9f41f0b29)\n",
    "\n",
    "[]()\n",
    "\n",
    "[]()\n",
    "\n",
    "[]()\n",
    "\n",
    "---\n",
    "## 5. 应用\n",
    "\n",
    "[推荐系统](https://mp.weixin.qq.com/s/f7KDoxLFt3fQiZ5ipmt4Eg)\n",
    "\n",
    "[一图简看智能聊天机器人的设计](https://juejin.im/post/5a751d326fb9a0634e6c65db)\n",
    "\n",
    "[用 TensorFlow 做个聊天机器人](http://www.wanjishu.com/p/vxzpT170625.html)\n",
    "\n",
    "[开启聊天机器人模式](https://cloud.tencent.com/developer/article/1016555)\n",
    "\n",
    "[自己动手做聊天机器人系列教程](https://toutiao.io/posts/487289/app_preview)\n",
    "\n",
    "[自己动手做聊天机器人](http://www.shareditor.com/bloglistbytag/?tagname=%E8%87%AA%E5%B7%B1%E5%8A%A8%E6%89%8B%E5%81%9A%E8%81%8A%E5%A4%A9%E6%9C%BA%E5%99%A8%E4%BA%BA)\n",
    "\n",
    "[使聊天机器人具有个性](https://www.jianshu.com/p/28baebdf24ef)\n",
    "\n",
    "[使聊天机器人的对话更有营养](https://www.jianshu.com/p/11d7c7772d4c)\n",
    "\n",
    "[用 TensorFlow 做个聊天机器人](https://www.jianshu.com/p/3c6f1e32e128)\n",
    "\n",
    "---\n",
    "## 6. 其他\n",
    "\n",
    "[通过一个kaggle实例学习解决机器学习问题](https://cloud.tencent.com/developer/article/1006140)\n",
    "\n",
    "[机器学习的技术栈及应用实例脑洞](https://cloud.tencent.com/developer/article/1083311)\n",
    "\n",
    "[机器学习&人工智能博文链接汇总](https://www.jianshu.com/p/28f02bb59fe5)\n",
    "\n",
    "[]()\n",
    "\n",
    "[]()\n",
    "\n",
    "[]()\n",
    "\n",
    "[]()\n",
    "\n",
    "[]()\n",
    "\n",
    "[]()"
   ]
  },
  {
   "cell_type": "code",
   "execution_count": null,
   "metadata": {
    "collapsed": true
   },
   "outputs": [],
   "source": []
  },
  {
   "cell_type": "code",
   "execution_count": null,
   "metadata": {
    "collapsed": true
   },
   "outputs": [],
   "source": []
  },
  {
   "cell_type": "code",
   "execution_count": null,
   "metadata": {
    "collapsed": true
   },
   "outputs": [],
   "source": []
  },
  {
   "cell_type": "code",
   "execution_count": null,
   "metadata": {
    "collapsed": true
   },
   "outputs": [],
   "source": []
  },
  {
   "cell_type": "code",
   "execution_count": null,
   "metadata": {
    "collapsed": true
   },
   "outputs": [],
   "source": []
  },
  {
   "cell_type": "code",
   "execution_count": null,
   "metadata": {
    "collapsed": true
   },
   "outputs": [],
   "source": []
  },
  {
   "cell_type": "code",
   "execution_count": null,
   "metadata": {
    "collapsed": true
   },
   "outputs": [],
   "source": []
  },
  {
   "cell_type": "code",
   "execution_count": null,
   "metadata": {
    "collapsed": true
   },
   "outputs": [],
   "source": []
  },
  {
   "cell_type": "code",
   "execution_count": null,
   "metadata": {
    "collapsed": true
   },
   "outputs": [],
   "source": []
  },
  {
   "cell_type": "code",
   "execution_count": null,
   "metadata": {
    "collapsed": true
   },
   "outputs": [],
   "source": []
  },
  {
   "cell_type": "code",
   "execution_count": null,
   "metadata": {
    "collapsed": true
   },
   "outputs": [],
   "source": []
  },
  {
   "cell_type": "code",
   "execution_count": null,
   "metadata": {
    "collapsed": true
   },
   "outputs": [],
   "source": []
  },
  {
   "cell_type": "code",
   "execution_count": null,
   "metadata": {
    "collapsed": true
   },
   "outputs": [],
   "source": []
  },
  {
   "cell_type": "code",
   "execution_count": null,
   "metadata": {
    "collapsed": true
   },
   "outputs": [],
   "source": []
  },
  {
   "cell_type": "code",
   "execution_count": null,
   "metadata": {
    "collapsed": true
   },
   "outputs": [],
   "source": []
  },
  {
   "cell_type": "code",
   "execution_count": null,
   "metadata": {
    "collapsed": true
   },
   "outputs": [],
   "source": []
  },
  {
   "cell_type": "markdown",
   "metadata": {},
   "source": [
    "## Reference\n",
    "\n",
    "**数据处理**\n",
    "\n",
    "[数据挖掘中的数据清洗方法大全](http://mp.weixin.qq.com/s/YrCC8CmP6UKuCmSdF2K_3g)\n",
    "\n",
    "**算法**\n",
    "\n",
    "[AI 学习必知的十大深度学习方法！](http://mp.weixin.qq.com/s/UjTCnCs5_3JHciOb9IJ5zg)\n",
    "\n",
    "[机器学习Top10算法，90天从入门到高薪](http://mp.weixin.qq.com/s/xYp55PMQvB7iAPDHAjZHuw)\n",
    "\n",
    "[《机器学习》笔记-神经网络（5）](http://mp.weixin.qq.com/s/uuScZduHCONhUJwAIxY-eA)\n",
    "\n",
    "[轻松看懂机器学习常用算法](http://mp.weixin.qq.com/s/lqXl6_O1-fzbyEI7Hx5-mw)\n",
    "\n",
    "[机器学习中Bagging和Boosting的区别](http://mp.weixin.qq.com/s/_SzFwSIjUzQoLygCTNv29Q)\n",
    "\n",
    "[机器学习各种熵：从入门到全面掌握](http://mp.weixin.qq.com/s/LGyNq3fRlsRSatu1lpFnnw)\n",
    "\n",
    "[【干货教程】自然语言处理入门：手把手教你解决90%的NLP问题](http://mp.weixin.qq.com/s/FGx0Z5_VojUV-h1a3MCViw)\n",
    "\n",
    "[一文搞懂k近邻（k-NN）算法（一）](http://mp.weixin.qq.com/s/mjkDl_6XUwF9L6GMpbY6Zg)\n",
    "\n",
    "[完结篇|一文搞定k近邻算法（k-NN）算法（二）](http://mp.weixin.qq.com/s/qfHBn7YydSOOnM43Be8aTg)\n",
    "\n",
    "**python**\n",
    "\n",
    "[程序员必知的 Python 陷阱与缺陷列表](http://mp.weixin.qq.com/s/ZDPe7p7t-PA_h2lWb9WS6A)\n",
    "\n",
    "[Python错误及异常总结汇总](http://mp.weixin.qq.com/s/gl0iIv27Lkl0xaGaDBXHGA)\n",
    "\n",
    "[10个Python面试常问的问题](http://mp.weixin.qq.com/s/51XG31ZEo9ODwhgj9IaTsw)\n",
    "\n",
    "[使用 Python 实现数据可视化（完整代码）](http://mp.weixin.qq.com/s/iQ5T_0LrAl8s0gnSDaw1Fg)\n",
    "\n",
    "[]()\n",
    "\n",
    "**介绍**\n",
    "\n",
    "[大福利！Google机器学习零基础在线课程发布，免费！有中文版！](http://mp.weixin.qq.com/s/kVK_TQg8LwsJkXLYoniRug)\n",
    "\n",
    "[猎头判别你是否价值年薪30万+必备问题！结构化面试，让你一举拿下N多Offer！](http://mp.weixin.qq.com/s/FNxRRbH2fG1uuU878PsgJA)\n",
    "\n",
    "**源码技术**\n",
    "\n",
    "[Python下载网易云音乐厉害? 骚操作竟能撩妹!!](http://mp.weixin.qq.com/s?__biz=MzU3MzQ4NzE1OA==&mid=2247484644&amp;idx=2&amp;sn=a955b128861e521afd1bc6a086b00f90&source=41#wechat_redirect)\n",
    "\n",
    "[编程经验 基于bs4的拉勾网AI相关工作爬虫实现](http://mp.weixin.qq.com/s/ScRqgXId_3aifElg6A_5kg)\n",
    "\n",
    "**汇总**\n",
    "\n",
    "[2017年历史文章汇总|机器学习](http://mp.weixin.qq.com/s/sT2tJ456nBPCBe27CkSJIg)\n",
    "\n",
    "[机器学习汇总，珍藏版！](http://mp.weixin.qq.com/s/4EQX3hI2BbK7X422Qw41aw)\n",
    "\n",
    "[机器学习必备手册](https://yq.aliyun.com/articles/221644?utm_content=m_33150)\n",
    "\n",
    "[福利 | 最全面超大规模数据集下载链接汇总](http://mp.weixin.qq.com/s/ot7iBnrqCYjkhABw9hBE5A)\n",
    "\n",
    "[资料 | Google发布机器学习术语表 (中英对照）](http://mp.weixin.qq.com/s/NGygzxsxqt5tVhqYZB0-tQ)\n",
    "\n",
    "**入门**\n",
    "\n",
    "[专栏 | 从入门到高阶，读懂机器学习需要哪些数学知识（附网盘）##### ](https://mp.weixin.qq.com/s?__biz=MzA3MzI4MjgzMw==&mid=2650740767&idx=2&sn=2efbe9f28646974138385e1c582a6024&chksm=871adc61b06d557711d18510dbd496bfd9bf1b6c9e82a90580e1e1e46106b2f44d9c08da2a8c&mpshare=1&scene=24&srcid=0416MpOX1AQKGnqXnO3RDvM3#rd)\n",
    "\n",
    "[机器学习该如何入门](http://mp.weixin.qq.com/s/A3P-LpJBPoO53G6J1qd02Q)\n",
    "\n",
    "[Tensorflow快速入门](http://mp.weixin.qq.com/s/qHAcJDWcAQnxZMcU8CgGxA)\n",
    "\n",
    "[深度学习入门](http://mp.weixin.qq.com/s/5nW-ezsKzGcRVGNPIrbAeg)\n",
    "\n",
    "**面试**\n",
    "\n",
    "[干货 | 机器学习算法大总结(ML岗面试常考)](http://mp.weixin.qq.com/s/vx00nYd_6ugk-CfpprQMeQ)"
   ]
  },
  {
   "cell_type": "code",
   "execution_count": null,
   "metadata": {
    "collapsed": true
   },
   "outputs": [],
   "source": []
  }
 ],
 "metadata": {
  "kernelspec": {
   "display_name": "Python 3",
   "language": "python",
   "name": "python3"
  },
  "language_info": {
   "codemirror_mode": {
    "name": "ipython",
    "version": 3
   },
   "file_extension": ".py",
   "mimetype": "text/x-python",
   "name": "python",
   "nbconvert_exporter": "python",
   "pygments_lexer": "ipython3",
   "version": "3.6.1"
  }
 },
 "nbformat": 4,
 "nbformat_minor": 2
}
