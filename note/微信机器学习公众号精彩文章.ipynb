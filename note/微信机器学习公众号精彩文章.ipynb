{
 "cells": [
  {
   "cell_type": "code",
   "execution_count": null,
   "metadata": {
    "collapsed": true
   },
   "outputs": [],
   "source": []
  },
  {
   "cell_type": "markdown",
   "metadata": {},
   "source": [
    "## Reference\n",
    "\n",
    "**数据处理**\n",
    "\n",
    "[数据挖掘中的数据清洗方法大全](http://mp.weixin.qq.com/s/YrCC8CmP6UKuCmSdF2K_3g)\n",
    "\n",
    "**算法**\n",
    "\n",
    "[AI 学习必知的十大深度学习方法！](http://mp.weixin.qq.com/s/UjTCnCs5_3JHciOb9IJ5zg)\n",
    "\n",
    "[机器学习Top10算法，90天从入门到高薪](http://mp.weixin.qq.com/s/xYp55PMQvB7iAPDHAjZHuw)\n",
    "\n",
    "[《机器学习》笔记-神经网络（5）](http://mp.weixin.qq.com/s/uuScZduHCONhUJwAIxY-eA)\n",
    "\n",
    "[轻松看懂机器学习常用算法](http://mp.weixin.qq.com/s/lqXl6_O1-fzbyEI7Hx5-mw)\n",
    "\n",
    "[机器学习中Bagging和Boosting的区别](http://mp.weixin.qq.com/s/_SzFwSIjUzQoLygCTNv29Q)\n",
    "\n",
    "[机器学习各种熵：从入门到全面掌握](http://mp.weixin.qq.com/s/LGyNq3fRlsRSatu1lpFnnw)\n",
    "\n",
    "[【干货教程】自然语言处理入门：手把手教你解决90%的NLP问题](http://mp.weixin.qq.com/s/FGx0Z5_VojUV-h1a3MCViw)\n",
    "\n",
    "[一文搞懂k近邻（k-NN）算法（一）](http://mp.weixin.qq.com/s/mjkDl_6XUwF9L6GMpbY6Zg)\n",
    "\n",
    "[完结篇|一文搞定k近邻算法（k-NN）算法（二）](http://mp.weixin.qq.com/s/qfHBn7YydSOOnM43Be8aTg)\n",
    "\n",
    "**python**\n",
    "\n",
    "[程序员必知的 Python 陷阱与缺陷列表](http://mp.weixin.qq.com/s/ZDPe7p7t-PA_h2lWb9WS6A)\n",
    "\n",
    "[Python错误及异常总结汇总](http://mp.weixin.qq.com/s/gl0iIv27Lkl0xaGaDBXHGA)\n",
    "\n",
    "[10个Python面试常问的问题](http://mp.weixin.qq.com/s/51XG31ZEo9ODwhgj9IaTsw)\n",
    "\n",
    "[使用 Python 实现数据可视化（完整代码）](http://mp.weixin.qq.com/s/iQ5T_0LrAl8s0gnSDaw1Fg)\n",
    "\n",
    "[]()\n",
    "\n",
    "**介绍**\n",
    "\n",
    "[大福利！Google机器学习零基础在线课程发布，免费！有中文版！](http://mp.weixin.qq.com/s/kVK_TQg8LwsJkXLYoniRug)\n",
    "\n",
    "[猎头判别你是否价值年薪30万+必备问题！结构化面试，让你一举拿下N多Offer！](http://mp.weixin.qq.com/s/FNxRRbH2fG1uuU878PsgJA)\n",
    "\n",
    "**源码技术**\n",
    "\n",
    "[Python下载网易云音乐厉害? 骚操作竟能撩妹!!](http://mp.weixin.qq.com/s?__biz=MzU3MzQ4NzE1OA==&mid=2247484644&amp;idx=2&amp;sn=a955b128861e521afd1bc6a086b00f90&source=41#wechat_redirect)\n",
    "\n",
    "[编程经验 基于bs4的拉勾网AI相关工作爬虫实现](http://mp.weixin.qq.com/s/ScRqgXId_3aifElg6A_5kg)\n",
    "\n",
    "**汇总**\n",
    "\n",
    "[2017年历史文章汇总|机器学习](http://mp.weixin.qq.com/s/sT2tJ456nBPCBe27CkSJIg)\n",
    "\n",
    "[机器学习汇总，珍藏版！](http://mp.weixin.qq.com/s/4EQX3hI2BbK7X422Qw41aw)\n",
    "\n",
    "[机器学习必备手册](https://yq.aliyun.com/articles/221644?utm_content=m_33150)\n",
    "\n",
    "[福利 | 最全面超大规模数据集下载链接汇总](http://mp.weixin.qq.com/s/ot7iBnrqCYjkhABw9hBE5A)\n",
    "\n",
    "[资料 | Google发布机器学习术语表 (中英对照）](http://mp.weixin.qq.com/s/NGygzxsxqt5tVhqYZB0-tQ)\n",
    "\n",
    "**入门**\n",
    "\n",
    "[专栏 | 从入门到高阶，读懂机器学习需要哪些数学知识（附网盘）##### ](https://mp.weixin.qq.com/s?__biz=MzA3MzI4MjgzMw==&mid=2650740767&idx=2&sn=2efbe9f28646974138385e1c582a6024&chksm=871adc61b06d557711d18510dbd496bfd9bf1b6c9e82a90580e1e1e46106b2f44d9c08da2a8c&mpshare=1&scene=24&srcid=0416MpOX1AQKGnqXnO3RDvM3#rd)\n",
    "\n",
    "[机器学习该如何入门](http://mp.weixin.qq.com/s/A3P-LpJBPoO53G6J1qd02Q)\n",
    "\n",
    "[Tensorflow快速入门](http://mp.weixin.qq.com/s/qHAcJDWcAQnxZMcU8CgGxA)\n",
    "\n",
    "[深度学习入门](http://mp.weixin.qq.com/s/5nW-ezsKzGcRVGNPIrbAeg)\n",
    "\n",
    "**面试**\n",
    "\n",
    "[干货 | 机器学习算法大总结(ML岗面试常考)](http://mp.weixin.qq.com/s/vx00nYd_6ugk-CfpprQMeQ)"
   ]
  },
  {
   "cell_type": "code",
   "execution_count": null,
   "metadata": {
    "collapsed": true
   },
   "outputs": [],
   "source": []
  }
 ],
 "metadata": {
  "kernelspec": {
   "display_name": "Python 2",
   "language": "python",
   "name": "python2"
  },
  "language_info": {
   "codemirror_mode": {
    "name": "ipython",
    "version": 2
   },
   "file_extension": ".py",
   "mimetype": "text/x-python",
   "name": "python",
   "nbconvert_exporter": "python",
   "pygments_lexer": "ipython2",
   "version": "2.7.14"
  }
 },
 "nbformat": 4,
 "nbformat_minor": 2
}
