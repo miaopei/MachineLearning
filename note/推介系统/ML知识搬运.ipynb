{
 "cells": [
  {
   "cell_type": "code",
   "execution_count": 16,
   "metadata": {
    "collapsed": true
   },
   "outputs": [],
   "source": [
    "import time\n",
    "\n",
    "def compute_int():\n",
    "    start = time.time()\n",
    "    print(\"int_sum=\", 10000 + 1000)\n",
    "    print(\"run_time:\", time.time() - start)\n",
    "\n",
    "def compute_float(): \n",
    "    start = time.time()\n",
    "    print(\"float_sum=\", 10000.0 + 1000.0)\n",
    "    print(\"run_time:\", time.time() - start)"
   ]
  },
  {
   "cell_type": "code",
   "execution_count": 17,
   "metadata": {},
   "outputs": [
    {
     "name": "stdout",
     "output_type": "stream",
     "text": [
      "float_sum= 11000.0\n",
      "run_time: 0.0013370513916015625\n"
     ]
    }
   ],
   "source": [
    "compute_float()"
   ]
  },
  {
   "cell_type": "code",
   "execution_count": 18,
   "metadata": {},
   "outputs": [
    {
     "name": "stdout",
     "output_type": "stream",
     "text": [
      "int_sum= 11000\n",
      "run_time: 0.002287149429321289\n"
     ]
    }
   ],
   "source": [
    "compute_int()"
   ]
  },
  {
   "cell_type": "code",
   "execution_count": null,
   "metadata": {
    "collapsed": true
   },
   "outputs": [],
   "source": []
  },
  {
   "cell_type": "code",
   "execution_count": null,
   "metadata": {
    "collapsed": true
   },
   "outputs": [],
   "source": []
  },
  {
   "cell_type": "code",
   "execution_count": null,
   "metadata": {
    "collapsed": true
   },
   "outputs": [],
   "source": []
  },
  {
   "cell_type": "markdown",
   "metadata": {
    "collapsed": true
   },
   "source": [
    "![](https://upload-images.jianshu.io/upload_images/1667471-4102082116d66a08.png)"
   ]
  },
  {
   "cell_type": "markdown",
   "metadata": {},
   "source": [
    "![](http://img.mukewang.com/575192d60001231308621340.png)"
   ]
  },
  {
   "cell_type": "markdown",
   "metadata": {},
   "source": [
    "## Reference\n",
    "\n",
    "[机器学习&人工智能博文链接汇总](https://www.jianshu.com/p/28f02bb59fe5)\n",
    "\n",
    "[常用激活函数比较](https://www.jianshu.com/p/22d9720dbf1a)\n",
    "\n",
    "[神经网络 之 线性单元](https://www.jianshu.com/p/af67ad280050)\n",
    "\n",
    "[读书｜《Mastering Machine Learning with Python in Six Steps》](https://www.jianshu.com/p/7634f57fd276)\n",
    "\n",
    "[读书｜《推荐系统实践》](https://www.jianshu.com/p/a190a7dcfd2f)\n",
    "\n",
    "[读书笔记 |《推荐系统实践》- 个性化推荐系统总结](https://www.jianshu.com/p/319e4933c5ba?utm_campaign=maleskine&utm_content=note&utm_medium=seo_notes&utm_source=recommendation)\n",
    "\n",
    "[机器学习算法应用中常用技巧-1](https://www.jianshu.com/p/2dd24205c2f8)\n",
    "\n",
    "[特征工程怎么做](https://www.jianshu.com/p/35135ab0a627)\n",
    "\n",
    "[关于推荐系统中的特征工程](http://blog.jobbole.com/74951/)\n",
    "\n",
    "[轻松看懂机器学习十大常用算法](https://www.jianshu.com/p/55a67c12d3e9)\n",
    "\n",
    "[一个框架解决几乎所有机器学习问题](https://www.jianshu.com/p/63ef4b87e197)\n",
    "\n",
    "[Bagging 简述](https://www.jianshu.com/p/907fecc7135c)\n",
    "\n",
    "[Adaboost 算法](https://www.jianshu.com/p/389d28f853c0)\n",
    "\n",
    "[浅谈 GBDT](https://www.jianshu.com/p/d55f7aaac4a7)\n",
    "\n",
    "[集成学习总结 & Stacking方法详解](https://blog.csdn.net/willduan1/article/details/73618677)\n",
    "\n",
    "[详解 Stacking 的 python 实现](https://www.jianshu.com/p/5905f19c4df6)\n",
    "\n",
    "[TFlearn 快速入门](https://github.com/lxzheng/machine_learning/wiki/TFlearn---%E5%BF%AB%E9%80%9F%E5%85%A5%E9%97%A8)\n",
    "\n",
    "****** [tensorflow 进阶学习](https://www.jianshu.com/p/20b9fa6789d5)\n",
    "\n",
    "[tensorflow新手必看，tensorflow入门教程，tensorflow示例代码](https://blog.csdn.net/u011954647/article/details/52924933)\n",
    "\n",
    "[TensorFlow, Keras, TensorLayer, Tflearn 比较](https://blog.csdn.net/dhsig552/article/details/52319541)\n",
    "\n",
    "[机器学习中常用评估指标汇总](https://www.jianshu.com/p/86abc0b4eb4c)\n",
    "\n",
    "[一张图带你看懂何为数据分析？](https://www.jianshu.com/p/172a4294d435)\n",
    "\n",
    "\n",
    "**神经网络**\n",
    "\n",
    "**CNN**\n",
    "\n",
    "* [图解何为CNN](https://www.jianshu.com/p/6daa1af1cf37)\n",
    "\n",
    "* [tensorflow 构建CNN识别自己的数据（类似于MNSIT）](https://www.jianshu.com/p/75a8eb564de7)\n",
    "\n",
    "* [按时间轴简述九大卷积神经网络](https://www.jianshu.com/p/41398e60d9fa)\n",
    "\n",
    "**RNN**\n",
    "\n",
    "* [详解循环神经网络(Recurrent Neural Network)](https://www.jianshu.com/p/39a99c88a565)\n",
    "\n",
    "* [手写，纯享版反向传播算法公式推导](https://www.jianshu.com/p/9e217cfd8a49)\n",
    "\n",
    "* [图解RNN](https://www.jianshu.com/p/6c2925ef47f3)\n",
    "\n",
    "* [零基础入门深度学习(5) - 循环神经网络](https://zybuluo.com/hanbingtao/note/541458)\n",
    "\n",
    "* [GRU神经网络](https://blog.csdn.net/wangyangzhizhou/article/details/77332582)\n",
    "\n",
    "* [CS224d－Day 5: RNN快速入门](https://www.jianshu.com/p/bf9ddfb21b07)\n",
    "\n",
    "* [理解 LSTM 网络](https://www.jianshu.com/p/9dc9f41f0b29#)\n",
    "\n",
    "* [用深度神经网络处理NER命名实体识别问题](https://www.jianshu.com/p/581832f2c458)\n",
    "\n",
    "* [用 RNN 训练语言模型生成文本](https://www.jianshu.com/p/b4c5ff7c450f)\n",
    "\n",
    "* [RNN与机器翻译](https://www.jianshu.com/p/23b46605857e)\n",
    "\n",
    "**LSTM**\n",
    "\n",
    "**seq2seq**\n",
    "\n",
    "**Doc2Vec**\n",
    "\n",
    "**Attention**\n",
    "\n",
    "**GAN**\n",
    "\n",
    "**推荐系统**\n",
    "\n",
    "* [Kaggle winner 方案 | Instacart Market Basket Analysis: 2nd place](https://www.jianshu.com/p/0536b688e79a)\n",
    "\n",
    "* [推荐系统](https://www.jianshu.com/p/e431e9f6a681)\n",
    "\n",
    "* [用 python 写一个简单的推荐系统](https://juejin.im/entry/573e7559c4c9710060436539)\n",
    "\n",
    "* [开源推荐系统](https://www.zybuluo.com/Frankchen/note/745391)\n",
    "\n",
    "* []()\n",
    "\n",
    "\n",
    "**自然语言处理**\n",
    "\n",
    "* []()\n",
    "\n",
    "* []()\n",
    "\n",
    "* []()\n",
    "\n",
    "* []()\n",
    "\n",
    "* []()\n",
    "\n",
    "* []()\n",
    "\n",
    "* []()\n",
    "\n",
    "* []()\n",
    "\n",
    "* []()\n",
    "\n",
    "* []()\n",
    "\n",
    "\n",
    "\n",
    "**数据科学**\n",
    "\n",
    "* [数据科学家养成路线](https://www.jianshu.com/p/56b9fb4d02a9)\n",
    "\n",
    "* [如何成为一名数据科学家并得到一份工作](https://www.jianshu.com/p/fa4c006dce84)\n",
    "\n",
    "* [【图解DS基础概念】AB Testing, Type 1 / 2 Error](https://www.jianshu.com/p/ccf0ea7f1a70)\n",
    "\n",
    "* [【图解DS基础概念】Critical value，Alpha，Z－score，P－value 关系](https://www.jianshu.com/p/97c7bcb21b73)\n",
    "\n",
    "* []()\n",
    "\n",
    "\n",
    "**数据库**\n",
    "\n",
    "* [最常问的MySQL面试题七——每个开发人员都应该知道](http://t.cj.sina.com.cn/articles/view/6441803898/17ff6207a001006c7t)\n",
    "\n",
    "* [数据分析中常用的SQL语句](http://ytluck.github.io/data-mining/my-dataming-post-18.html)\n",
    "\n",
    "* [排名前十的SQL和NoSQL数据库](http://www.techug.com/post/the-top-10-sql-and-nosql-databases.html)\n",
    "\n",
    "* [MongoDB资料大全](https://yq.aliyun.com/articles/53867?utm_campaign=wenzhang&utm_medium=article&utm_source=QQ-qun&utm_content=m_10349)\n",
    "\n",
    "* [5分钟入门MySQL Workbench](https://www.jianshu.com/p/dc58a4efdd84)\n",
    "\n",
    "* [非关系型数据库和关系型数据库区别，优势比较？](https://www.zhihu.com/question/24225007)\n",
    "\n",
    "**正则表达式**\n",
    "\n",
    "* [Python正则表达式 知识思维导图](http://www.imooc.com/article/8705)\n",
    "\n",
    "* [分享5个可视化的正则表达式编辑工具](https://www.csdn.net/article/1970-01-01/2822843)\n",
    "\n",
    "**其他**\n",
    "\n",
    "* [思考力｜《零秒思考》](https://www.jianshu.com/p/7852829ec8d3)\n",
    "\n",
    "* [思考力｜《金字塔原理》](https://www.jianshu.com/p/98ca442a6fa2)\n",
    "\n",
    "* [纯粹的数学之美](https://www.jianshu.com/p/c9a7abc05fc3)\n",
    "\n",
    "* [面试官怎么看你的Github profile](https://www.jianshu.com/p/69aacd9f5307)\n",
    "\n",
    "* [LEETCODE - Linked List 题目思路汇总](https://www.jianshu.com/p/12e4965b7920)"
   ]
  }
 ],
 "metadata": {
  "kernelspec": {
   "display_name": "Python 3",
   "language": "python",
   "name": "python3"
  },
  "language_info": {
   "codemirror_mode": {
    "name": "ipython",
    "version": 3
   },
   "file_extension": ".py",
   "mimetype": "text/x-python",
   "name": "python",
   "nbconvert_exporter": "python",
   "pygments_lexer": "ipython3",
   "version": "3.6.1"
  }
 },
 "nbformat": 4,
 "nbformat_minor": 2
}
