{
 "cells": [
  {
   "cell_type": "code",
   "execution_count": 16,
   "metadata": {
    "collapsed": true
   },
   "outputs": [],
   "source": [
    "import time\n",
    "\n",
    "def compute_int():\n",
    "    start = time.time()\n",
    "    print(\"int_sum=\", 10000 + 1000)\n",
    "    print(\"run_time:\", time.time() - start)\n",
    "\n",
    "def compute_float(): \n",
    "    start = time.time()\n",
    "    print(\"float_sum=\", 10000.0 + 1000.0)\n",
    "    print(\"run_time:\", time.time() - start)"
   ]
  },
  {
   "cell_type": "code",
   "execution_count": 17,
   "metadata": {},
   "outputs": [
    {
     "name": "stdout",
     "output_type": "stream",
     "text": [
      "float_sum= 11000.0\n",
      "run_time: 0.0013370513916015625\n"
     ]
    }
   ],
   "source": [
    "compute_float()"
   ]
  },
  {
   "cell_type": "code",
   "execution_count": 18,
   "metadata": {},
   "outputs": [
    {
     "name": "stdout",
     "output_type": "stream",
     "text": [
      "int_sum= 11000\n",
      "run_time: 0.002287149429321289\n"
     ]
    }
   ],
   "source": [
    "compute_int()"
   ]
  },
  {
   "cell_type": "code",
   "execution_count": null,
   "metadata": {
    "collapsed": true
   },
   "outputs": [],
   "source": []
  }
 ],
 "metadata": {
  "kernelspec": {
   "display_name": "Python 3",
   "language": "python",
   "name": "python3"
  },
  "language_info": {
   "codemirror_mode": {
    "name": "ipython",
    "version": 3
   },
   "file_extension": ".py",
   "mimetype": "text/x-python",
   "name": "python",
   "nbconvert_exporter": "python",
   "pygments_lexer": "ipython3",
   "version": "3.6.1"
  }
 },
 "nbformat": 4,
 "nbformat_minor": 2
}
