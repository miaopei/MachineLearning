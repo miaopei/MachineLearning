{
 "cells": [
  {
   "cell_type": "code",
   "execution_count": 16,
   "metadata": {
    "collapsed": true
   },
   "outputs": [],
   "source": [
    "import time\n",
    "\n",
    "def compute_int():\n",
    "    start = time.time()\n",
    "    print(\"int_sum=\", 10000 + 1000)\n",
    "    print(\"run_time:\", time.time() - start)\n",
    "\n",
    "def compute_float(): \n",
    "    start = time.time()\n",
    "    print(\"float_sum=\", 10000.0 + 1000.0)\n",
    "    print(\"run_time:\", time.time() - start)"
   ]
  },
  {
   "cell_type": "code",
   "execution_count": 17,
   "metadata": {},
   "outputs": [
    {
     "name": "stdout",
     "output_type": "stream",
     "text": [
      "float_sum= 11000.0\n",
      "run_time: 0.0013370513916015625\n"
     ]
    }
   ],
   "source": [
    "compute_float()"
   ]
  },
  {
   "cell_type": "code",
   "execution_count": 18,
   "metadata": {},
   "outputs": [
    {
     "name": "stdout",
     "output_type": "stream",
     "text": [
      "int_sum= 11000\n",
      "run_time: 0.002287149429321289\n"
     ]
    }
   ],
   "source": [
    "compute_int()"
   ]
  },
  {
   "cell_type": "code",
   "execution_count": null,
   "metadata": {
    "collapsed": true
   },
   "outputs": [],
   "source": []
  },
  {
   "cell_type": "code",
   "execution_count": null,
   "metadata": {
    "collapsed": true
   },
   "outputs": [],
   "source": []
  },
  {
   "cell_type": "code",
   "execution_count": null,
   "metadata": {
    "collapsed": true
   },
   "outputs": [],
   "source": []
  },
  {
   "cell_type": "code",
   "execution_count": null,
   "metadata": {
    "collapsed": true
   },
   "outputs": [],
   "source": []
  },
  {
   "cell_type": "markdown",
   "metadata": {},
   "source": [
    "## Reference\n",
    "\n",
    "[机器学习&人工智能博文链接汇总](https://www.jianshu.com/p/28f02bb59fe5)\n",
    "\n",
    "[常用激活函数比较](https://www.jianshu.com/p/22d9720dbf1a)\n",
    "\n",
    "[神经网络 之 线性单元](https://www.jianshu.com/p/af67ad280050)\n",
    "\n",
    "**CNN**\n",
    "\n",
    "* [图解何为CNN](https://www.jianshu.com/p/6daa1af1cf37)\n",
    "\n",
    "* [tensorflow 构建CNN识别自己的数据（类似于MNSIT）](https://www.jianshu.com/p/75a8eb564de7)\n",
    "\n",
    "* [按时间轴简述九大卷积神经网络](https://www.jianshu.com/p/41398e60d9fa)\n",
    "\n",
    "**RNN**\n",
    "\n",
    "* [详解循环神经网络(Recurrent Neural Network)](https://www.jianshu.com/p/39a99c88a565)\n",
    "\n",
    "* [手写，纯享版反向传播算法公式推导](https://www.jianshu.com/p/9e217cfd8a49)\n",
    "\n",
    "* [图解RNN](https://www.jianshu.com/p/6c2925ef47f3)\n",
    "\n",
    "* [零基础入门深度学习(5) - 循环神经网络](https://zybuluo.com/hanbingtao/note/541458)\n",
    "\n",
    "* [GRU神经网络](https://blog.csdn.net/wangyangzhizhou/article/details/77332582)\n",
    "\n",
    "* [CS224d－Day 5: RNN快速入门](https://www.jianshu.com/p/bf9ddfb21b07)\n",
    "\n",
    "* []()\n",
    "\n",
    "* []()"
   ]
  }
 ],
 "metadata": {
  "kernelspec": {
   "display_name": "Python 3",
   "language": "python",
   "name": "python3"
  },
  "language_info": {
   "codemirror_mode": {
    "name": "ipython",
    "version": 3
   },
   "file_extension": ".py",
   "mimetype": "text/x-python",
   "name": "python",
   "nbconvert_exporter": "python",
   "pygments_lexer": "ipython3",
   "version": "3.6.1"
  }
 },
 "nbformat": 4,
 "nbformat_minor": 2
}
