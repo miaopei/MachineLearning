{
 "cells": [
  {
   "cell_type": "code",
   "execution_count": null,
   "metadata": {
    "collapsed": true
   },
   "outputs": [],
   "source": []
  },
  {
   "cell_type": "markdown",
   "metadata": {},
   "source": [
    "## Reference\n",
    "\n",
    "[莫烦 Matplotlib](https://morvanzhou.github.io/tutorials/data-manipulation/plt/1-1-why/)\n",
    "\n",
    "[Matplotlib 教程](https://liam0205.me/2014/09/11/matplotlib-tutorial-zh-cn/)\n",
    "\n",
    "[Matplotlib 用户指南](https://wizardforcel.gitbooks.io/matplotlib-user-guide/3.1.html)\n",
    "\n",
    "[十分钟入门 Matplotlib](http://codingpy.com/article/a-quick-intro-to-matplotlib/)"
   ]
  }
 ],
 "metadata": {
  "kernelspec": {
   "display_name": "Python 2",
   "language": "python",
   "name": "python2"
  },
  "language_info": {
   "codemirror_mode": {
    "name": "ipython",
    "version": 2
   },
   "file_extension": ".py",
   "mimetype": "text/x-python",
   "name": "python",
   "nbconvert_exporter": "python",
   "pygments_lexer": "ipython2",
   "version": "2.7.14"
  }
 },
 "nbformat": 4,
 "nbformat_minor": 2
}
