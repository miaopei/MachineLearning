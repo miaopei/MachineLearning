{
 "cells": [
  {
   "cell_type": "markdown",
   "metadata": {},
   "source": [
    "包括两类监督学习，以及一种具体的监督学习方式\n",
    "\n",
    "分类只是一个获取某类输入的过程，然后将它们映射到某些离散的标签\n",
    "\n",
    "如果输出是连续的，则属于回归任务；如果输出是离散的，则属于分类任务。\n",
    "\n",
    "归纳偏差\n",
    "\n",
    "ID3 bias(偏差)\n",
    "\n",
    "在考虑搜索空间的算法时，我们会担心两种偏差：\n",
    "\n",
    "* 限定偏差\n",
    "\n",
    "* 优选偏差"
   ]
  },
  {
   "cell_type": "markdown",
   "metadata": {},
   "source": [
    "# 决策树\n",
    "\n",
    "## 决策树 Reference\n",
    "\n",
    "[sklearn 决策树](http://sklearn.apachecn.org/cn/stable/modules/tree.html#tree)\n",
    "\n",
    "[简书 决策树](https://www.jianshu.com/p/3425568cb6b3)\n",
    "\n",
    "[scikit-learn决策树算法类库使用小结](https://www.cnblogs.com/pinard/p/6056319.html)\n",
    "\n",
    "[决策树与熵](https://www.cnblogs.com/xmeo/p/6543054.html)"
   ]
  },
  {
   "cell_type": "markdown",
   "metadata": {},
   "source": [
    "## Reference\n",
    "\n",
    "[分类与回归区别是什么？](https://www.zhihu.com/question/21329754)"
   ]
  }
 ],
 "metadata": {
  "kernelspec": {
   "display_name": "Python 2",
   "language": "python",
   "name": "python2"
  },
  "language_info": {
   "codemirror_mode": {
    "name": "ipython",
    "version": 2
   },
   "file_extension": ".py",
   "mimetype": "text/x-python",
   "name": "python",
   "nbconvert_exporter": "python",
   "pygments_lexer": "ipython2",
   "version": "2.7.14"
  },
  "toc": {
   "nav_menu": {},
   "number_sections": true,
   "sideBar": true,
   "skip_h1_title": false,
   "toc_cell": false,
   "toc_position": {},
   "toc_section_display": "block",
   "toc_window_display": false
  }
 },
 "nbformat": 4,
 "nbformat_minor": 2
}
