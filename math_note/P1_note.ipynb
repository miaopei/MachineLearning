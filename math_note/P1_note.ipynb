{
 "cells": [
  {
   "cell_type": "markdown",
   "metadata": {},
   "source": [
    "# 机器学习算法总结\n",
    "\n",
    "\n",
    "## 朴素贝叶斯\n",
    "\n",
    "### 先验概率，后验概率，似然概率，条件概率，贝叶斯，最大似然\n",
    "\n",
    "先验概率：\n",
    "\n",
    "> 事件发生前的预判概率。可以是基于历史数据的统计，可以由背景常识得出，也可以是人的主观观点给出。一般都是单独事件概率，如 $P(x)$ , $P(y)$。\n",
    "\n",
    "后验概率：\n",
    "\n",
    "> 事件发生后求的反向条件概率；或者说，基于先验概率求得的反向条件概率。概率形式与条件概率相同。\n",
    "\n",
    "条件概率：\n",
    "\n",
    "> 一个事件发生后另一个事件发生的概率。一般的形式为 $P(x \\mid y)$ 表示 $y$ 发生的条件下 $x$ 发生的概率。\n",
    "\n",
    "贝叶斯公式：\n",
    "\n",
    "$$P(y \\mid x) = \\frac {P(x \\mid y) * P(y)}{P(x)}$$\n",
    "\n",
    "> 这里：\n",
    "\n",
    "> * $P(y \\mid x)$ 是后验概率，一般是我们求解的目标。\n",
    "\n",
    "> * $P(x \\mid y)$ 是条件概率，又叫似然概率，一般是通过历史数据统计得到。一般不把它叫做先验概率，但从定义上也符合先验定义。\n",
    "\n",
    "> * $P(y)$ 是先验概率，一般都是人主观给出的。贝叶斯中的先验概率一般特指它。\n",
    "\n",
    "> * $P(x)$ 其实也是先验概率，只是在贝叶斯的很多应用中不重要（因为只要最大后验不求绝对值），需要时往往用全概率公式计算得到。\n",
    "\n",
    "\n",
    "实例：假设 $y$ 是文章种类，是一个枚举值；$x$ 是向量，表示文章中各个单词的出现次数。\n",
    "\n",
    "在拥有训练集的情况下，显然除了后验概率 $P(y \\mid x)$ 中的 $x$ 来自一篇新文章无法得到，$p(x)$, $p(y)$, $p(x \\mid y)$ 都是可以在抽样集合上统计出的。\n",
    "\n",
    "最大似然理论：\n",
    "\n",
    "> 认为 $P(x \\mid y)$ 最大的类别 $y$，就是当前文档所属类别。即 $Max P(x \\mid y) = Max p(x1 \\mid y)*p(x2 \\mid y)*...p(xn \\mid y), for all y$\n",
    "\n",
    "贝叶斯理论：\n",
    "\n",
    "> 认为需要增加先验概率 $p(y)$，因为有可能某个y是很稀有的类别几千年才看见一次，即使 $P(x \\mid y)$ 很高，也很可能不是它。\n",
    "\n",
    "> 所以 $y = Max P(x \\mid y) * P(y)$, 其中 $p(y)$ 一般是数据集里统计出来的。\n",
    "\n",
    "从上例来讲，贝叶斯理论显然更合理一些；但实际中很多先验概率是拍脑袋得出的（不准），有些甚至是为了方便求解方便生造出来的（硬凑），那有先验又有什么好处呢？一般攻击贝叶斯都在于这一点。\n",
    "\n",
    "\n",
    "## Reference\n",
    "\n",
    "[先验概率，后验概率，似然概率，条件概率，贝叶斯，最大似然](http://blog.csdn.net/yangang908/article/details/62215209)\n",
    "\n",
    "[算法杂货铺——分类算法之朴素贝叶斯分类(Naive Bayesian classification)](http://www.cnblogs.com/leoo2sk/archive/2010/09/17/naive-bayesian-classifier.html)\n",
    "\n",
    "[sklearn 朴素贝叶斯](http://sklearn.apachecn.org/cn/0.19.0/modules/naive_bayes.html)\n"
   ]
  },
  {
   "cell_type": "code",
   "execution_count": null,
   "metadata": {
    "collapsed": true
   },
   "outputs": [],
   "source": []
  }
 ],
 "metadata": {
  "kernelspec": {
   "display_name": "Python 2",
   "language": "python",
   "name": "python2"
  },
  "language_info": {
   "codemirror_mode": {
    "name": "ipython",
    "version": 2
   },
   "file_extension": ".py",
   "mimetype": "text/x-python",
   "name": "python",
   "nbconvert_exporter": "python",
   "pygments_lexer": "ipython2",
   "version": "2.7.14"
  },
  "toc": {
   "nav_menu": {},
   "number_sections": true,
   "sideBar": true,
   "skip_h1_title": false,
   "toc_cell": false,
   "toc_position": {},
   "toc_section_display": "block",
   "toc_window_display": false
  }
 },
 "nbformat": 4,
 "nbformat_minor": 2
}
