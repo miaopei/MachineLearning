{
 "cells": [
  {
   "cell_type": "code",
   "execution_count": null,
   "metadata": {
    "collapsed": true
   },
   "outputs": [],
   "source": []
  },
  {
   "cell_type": "markdown",
   "metadata": {},
   "source": [
    "## Reference\n",
    "\n",
    "[特征选择常用算法综述](http://www.cnblogs.com/heaad/archive/2011/01/02/1924088.html)\n",
    "\n",
    "[机器学习中的特征——特征选择的方法以及注意点](https://blog.csdn.net/google19890102/article/details/40019271)\n",
    "\n",
    "[机器学习之（四）特征工程以及特征选择的工程方法](https://blog.csdn.net/boon_228/article/details/51749646)\n",
    "\n",
    "[文本挖掘基础：文本特征表示](http://www.wangxianfeng.name/2012/06/text-mining-basis-feature-representation/)"
   ]
  },
  {
   "cell_type": "code",
   "execution_count": null,
   "metadata": {
    "collapsed": true
   },
   "outputs": [],
   "source": []
  }
 ],
 "metadata": {
  "kernelspec": {
   "display_name": "Python 2",
   "language": "python",
   "name": "python2"
  },
  "language_info": {
   "codemirror_mode": {
    "name": "ipython",
    "version": 2
   },
   "file_extension": ".py",
   "mimetype": "text/x-python",
   "name": "python",
   "nbconvert_exporter": "python",
   "pygments_lexer": "ipython2",
   "version": "2.7.14"
  }
 },
 "nbformat": 4,
 "nbformat_minor": 2
}
