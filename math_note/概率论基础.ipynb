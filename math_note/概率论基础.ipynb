{
 "cells": [
  {
   "cell_type": "markdown",
   "metadata": {},
   "source": [
    "# 概率论基础\n",
    "\n",
    "## 主要内容\n",
    "\n",
    "**积分学**\n",
    "\n",
    "    - 理解积分： 无穷求和，体积\n",
    "    - 微积分基本定理： 牛顿-莱布尼茨公式\n",
    "    \n",
    "**概率空间**\n",
    "\n",
    "    - 随机变量与概率： 概率密度函数的积分\n",
    "    - 随机变量与概率： 概率空间\n",
    "    - 条件概率与贝叶斯公式\n",
    "    - 常见分布于共轭分布\n",
    "\n",
    "## 记号\n",
    "\n",
    "本节常用数学公式：\n",
    "\n",
    "* $\\mathbb{R}^n$：    实坐标空间\n",
    "* $f(x)$：            函数\n",
    "* $\\int_a^bf(x)dx$：  函数积分\n",
    "* X：                 随机变量\n",
    "* $E(X)$：            随机变量的期望\n",
    "* $Var(x)$：          随机变量的方差\n",
    "* $\\mu_n(x)$：        随机变量的 n 阶矩\n",
    "\n"
   ]
  },
  {
   "cell_type": "markdown",
   "metadata": {},
   "source": [
    "问题：\n",
    "\n",
    "1. 如何把概率理解成积分\n",
    "\n",
    "2. 如何描述随机变量\n",
    "\n",
    "3. 随机变量之间的关系， 如何用数学公式描述\n",
    "\n",
    "4. 微分学求的是函数的导数（切向斜率）\n",
    "\n",
    "5. 积分学求的是函数下面积\n",
    "\n",
    "6. 定义一个积分是从离散到连续\n",
    "\n",
    "7. 微分和积分之间的关系：互为逆运算"
   ]
  }
 ],
 "metadata": {
  "kernelspec": {
   "display_name": "Python 2",
   "language": "python",
   "name": "python2"
  },
  "language_info": {
   "codemirror_mode": {
    "name": "ipython",
    "version": 2
   },
   "file_extension": ".py",
   "mimetype": "text/x-python",
   "name": "python",
   "nbconvert_exporter": "python",
   "pygments_lexer": "ipython2",
   "version": "2.7.14"
  },
  "toc": {
   "nav_menu": {},
   "number_sections": true,
   "sideBar": true,
   "skip_h1_title": false,
   "toc_cell": false,
   "toc_position": {},
   "toc_section_display": "block",
   "toc_window_display": false
  }
 },
 "nbformat": 4,
 "nbformat_minor": 2
}
