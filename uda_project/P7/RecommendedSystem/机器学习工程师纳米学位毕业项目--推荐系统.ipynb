{
 "cells": [
  {
   "cell_type": "markdown",
   "metadata": {
    "deletable": true,
    "editable": true
   },
   "source": [
    "# 机器学习工程师纳米学位毕业项目 -- 推荐系统\n",
    "\n",
    "---\n",
    "## 目录\n",
    "\n",
    "* [1. 定义](#contents1)\n",
    "\n",
    "    * [1.1 项目概述](#contents11)\n",
    "\n",
    "    * [1.2 问题称述](#contents12)\n",
    "\n",
    "    * [1.3 评价指标](#contents13)\n",
    "\n",
    "* [2. 分析](#contents2)\n",
    "\n",
    "    * [2.1 数据可视化](#contents21)\n",
    "\n",
    "    * [2.2 算法和技术](#contents22)\n",
    "\n",
    "        * [2.2.1 分类算法]()\n",
    "\n",
    "        * [2.2.2 神经网络]()\n",
    "\n",
    "        * [2.2.3 卷积神经网络]()\n",
    "\n",
    "        * [2.2.4 技术]()\n",
    "\n",
    "* [3. 具体方法]()\n",
    "\n",
    "    * [3.1 数据预处理]()\n",
    "\n",
    "    * [3.2 实现]()\n",
    "\n",
    "    * [3.3 改进]()\n",
    "\n",
    "* [4. 结果]()\n",
    "\n",
    "    * [4.1 模型评价与验证]()\n",
    "\n",
    "    * [4.2 结果分析]()\n",
    "\n",
    "* [5. 结论]()\n",
    "\n",
    "    * [5.1 结果可视化]()\n",
    "\n",
    "    * [5.2 总结]()\n",
    "\n",
    "    * [5.3 后续改进]()"
   ]
  },
  {
   "cell_type": "markdown",
   "metadata": {
    "deletable": true,
    "editable": true
   },
   "source": [
    "---\n",
    "<a id='contents1'></a>\n",
    "## 1. 定义\n",
    "\n",
    "<a id='contents11'></a>\n",
    "### 1.1 项目概述\n",
    "\n"
   ]
  },
  {
   "cell_type": "code",
   "execution_count": null,
   "metadata": {
    "collapsed": true,
    "deletable": true,
    "editable": true
   },
   "outputs": [],
   "source": []
  },
  {
   "cell_type": "code",
   "execution_count": null,
   "metadata": {
    "collapsed": true,
    "deletable": true,
    "editable": true
   },
   "outputs": [],
   "source": []
  },
  {
   "cell_type": "code",
   "execution_count": null,
   "metadata": {
    "collapsed": true,
    "deletable": true,
    "editable": true
   },
   "outputs": [],
   "source": []
  },
  {
   "cell_type": "code",
   "execution_count": null,
   "metadata": {
    "collapsed": true,
    "deletable": true,
    "editable": true
   },
   "outputs": [],
   "source": []
  },
  {
   "cell_type": "markdown",
   "metadata": {
    "deletable": true,
    "editable": true
   },
   "source": [
    "数据集使用：\n",
    "\n",
    "**MovieLens电影评分数据集**\n",
    "这个也是一个非常经典的数据集，数据集地址：\n",
    "\n",
    "https://grouplens.org/datasets/movielens/\n",
    "\n",
    "有用户对电影的评分，tag数据量也蛮大的，有24,000,000 ratings and 670,000 tag applications applied to 40,000 movies by 260,000 users\n",
    "\n",
    "**Last.fm音乐推荐数据集**\n",
    "这个是数据集还是蛮丰富的，有用户信息，用户听艺术家信息歌曲的信息，还有用户对艺术家打标签的侵袭，更有用户之间好友信息，数据量1892 users，17632 artists \n",
    "数据集地址：\n",
    "\n",
    "https://grouplens.org/datasets/hetrec-2011/ \n",
    "（其实这个数据集地址跟上面那个都是在一块的）\n",
    "\n",
    "这个数据集拿来做推荐的话，可以把艺术家播放次数作为用户的评分"
   ]
  },
  {
   "cell_type": "markdown",
   "metadata": {
    "collapsed": true,
    "deletable": true,
    "editable": true
   },
   "source": [
    "## Reference\n",
    "\n",
    "* http://cjc.ict.ac.cn/online/bfpub/hlww-2018124152810.pdf\n",
    "\n",
    "* https://grouplens.org/datasets/movielens/"
   ]
  }
 ],
 "metadata": {
  "kernelspec": {
   "display_name": "Python 3",
   "language": "python",
   "name": "python3"
  },
  "language_info": {
   "codemirror_mode": {
    "name": "ipython",
    "version": 3
   },
   "file_extension": ".py",
   "mimetype": "text/x-python",
   "name": "python",
   "nbconvert_exporter": "python",
   "pygments_lexer": "ipython3",
   "version": "3.5.3"
  }
 },
 "nbformat": 4,
 "nbformat_minor": 2
}
