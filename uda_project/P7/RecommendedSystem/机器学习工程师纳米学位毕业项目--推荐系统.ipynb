{
 "cells": [
  {
   "cell_type": "markdown",
   "metadata": {},
   "source": [
    "# 机器学习工程师纳米学位毕业项目 -- 推荐系统\n",
    "\n",
    "---\n",
    "## 目录\n",
    "\n",
    "* [1. 定义](#contents1)\n",
    "\n",
    "    * [1.1 项目概述](#contents11)\n",
    "\n",
    "    * [1.2 问题称述](#contents12)\n",
    "\n",
    "    * [1.3 评价指标](#contents13)\n",
    "\n",
    "* [2. 分析](#contents2)\n",
    "\n",
    "    * [2.1 数据可视化](#contents21)\n",
    "\n",
    "    * [2.2 算法和技术](#contents22)\n",
    "\n",
    "        * [2.2.1 分类算法]()\n",
    "\n",
    "        * [2.2.2 神经网络]()\n",
    "\n",
    "        * [2.2.3 卷积神经网络]()\n",
    "\n",
    "        * [2.2.4 技术]()\n",
    "\n",
    "* [3. 具体方法]()\n",
    "\n",
    "    * [3.1 数据预处理]()\n",
    "\n",
    "    * [3.2 实现]()\n",
    "\n",
    "    * [3.3 改进]()\n",
    "\n",
    "* [4. 结果]()\n",
    "\n",
    "    * [4.1 模型评价与验证]()\n",
    "\n",
    "    * [4.2 结果分析]()\n",
    "\n",
    "* [5. 结论]()\n",
    "\n",
    "    * [5.1 结果可视化]()\n",
    "\n",
    "    * [5.2 总结]()\n",
    "\n",
    "    * [5.3 后续改进]()"
   ]
  },
  {
   "cell_type": "markdown",
   "metadata": {},
   "source": [
    "---\n",
    "<a id='contents1'></a>\n",
    "## 1. 定义\n",
    "\n",
    "<a id='contents11'></a>\n",
    "### 1.1 项目概述\n",
    "\n",
    "本项目使用文本卷积神经网络，并使用[MovieLens数据集](https://grouplens.org/datasets/movielens/)完成电影推荐的任务。\n",
    "\n",
    "推荐系统在日常的网络应用中无处不在，比如网上购物、网上买书、新闻app、社交网络、音乐网站、电影网站等等等等，有人的地方就有推荐。根据个人的喜好，相同喜好人群的习惯等信息进行个性化的内容推荐。比如打开新闻类的app，因为有了个性化的内容，每个人看到的新闻首页都是不一样的。\n",
    "\n",
    "这当然是很有用的，在信息爆炸的今天，获取信息的途径和方式多种多样，人们花费时间最多的不再是去哪获取信息，而是要在众多的信息中寻找自己感兴趣的，这就是信息超载问题。为了解决这个问题，推荐系统应运而生。\n",
    "\n",
    "协同过滤是推荐系统应用较广泛的技术，该方法搜集用户的历史记录、个人喜好等信息，计算与其他用户的相似度，利用相似用户的评价来预测目标用户对特定项目的喜好程度。优点是会给用户推荐未浏览过的项目，缺点呢，对于新用户来说，没有任何与商品的交互记录和个人喜好等信息，存在冷启动问题，导致模型无法找到相似的用户或商品。\n",
    "\n",
    "为了解决冷启动的问题，通常的做法是对于刚注册的用户，要求用户先选择自己感兴趣的话题、群组、商品、性格、喜欢的音乐类型等信息，比如豆瓣FM：\n",
    "\n",
    "![](https://pic2.zhimg.com/80/v2-0ae567065b18d0ec830a5e628120d016_hd.jpg)\n",
    "\n",
    "<a id='contents12'></a>\n",
    "### 1.1 问题称述\n",
    "\n",
    "使用文本卷积神经网络，并利用MovieLens数据集完成电影推荐的任务。 实现的推荐功能如下：\n",
    "\n",
    "1、指定用户和电影进行评分\n",
    "2、推荐同类型的电影\n",
    "3、推荐您喜欢的电影\n",
    "4、看过这个电影的人还看了（喜欢）哪些电影\n",
    "\n",
    "<a id='contents13'></a>\n",
    "### 1.1 评价指标"
   ]
  },
  {
   "cell_type": "code",
   "execution_count": null,
   "metadata": {
    "collapsed": true
   },
   "outputs": [],
   "source": []
  },
  {
   "cell_type": "code",
   "execution_count": null,
   "metadata": {
    "collapsed": true
   },
   "outputs": [],
   "source": []
  },
  {
   "cell_type": "code",
   "execution_count": null,
   "metadata": {
    "collapsed": true
   },
   "outputs": [],
   "source": []
  },
  {
   "cell_type": "code",
   "execution_count": null,
   "metadata": {
    "collapsed": true
   },
   "outputs": [],
   "source": []
  },
  {
   "cell_type": "markdown",
   "metadata": {},
   "source": [
    "数据集使用：\n",
    "\n",
    "**MovieLens电影评分数据集**\n",
    "这个也是一个非常经典的数据集，数据集地址：\n",
    "\n",
    "https://grouplens.org/datasets/movielens/\n",
    "\n",
    "有用户对电影的评分，tag数据量也蛮大的，有24,000,000 ratings and 670,000 tag applications applied to 40,000 movies by 260,000 users\n",
    "\n",
    "**Last.fm音乐推荐数据集**\n",
    "这个是数据集还是蛮丰富的，有用户信息，用户听艺术家信息歌曲的信息，还有用户对艺术家打标签的侵袭，更有用户之间好友信息，数据量1892 users，17632 artists \n",
    "数据集地址：\n",
    "\n",
    "https://grouplens.org/datasets/hetrec-2011/ \n",
    "（其实这个数据集地址跟上面那个都是在一块的）\n",
    "\n",
    "这个数据集拿来做推荐的话，可以把艺术家播放次数作为用户的评分"
   ]
  },
  {
   "cell_type": "markdown",
   "metadata": {
    "collapsed": true
   },
   "source": [
    "## Reference\n",
    "\n",
    "* http://cjc.ict.ac.cn/online/bfpub/hlww-2018124152810.pdf\n",
    "\n",
    "* https://grouplens.org/datasets/movielens/\n",
    "\n",
    "* [使用MovieLens数据集训练的电影推荐系统](https://www.ctolib.com/chengstone-movie_recommender.html)\n",
    "\n",
    "* [推荐系统入门代码（关于MovieLens数据集）](https://www.jianshu.com/p/4df21635d13c)\n",
    "\n",
    "* [推荐系统-基于用户的最近邻协同过滤算法（MovieLens数据集）](https://blog.csdn.net/recsysml/article/details/12287587)\n",
    "\n",
    "* [基于Movielens-1M数据集实现的User Based Collaborative Filtering和Item Based Collaborative Filtering推荐算法](https://github.com/Lockvictor/MovieLens-RecSys)\n",
    "\n",
    "* [数据挖掘-MovieLens数据集_电影推荐_亲和性分析 Aprioro算法](https://blog.csdn.net/zhangyingchengqi/article/details/54924122)\n",
    "\n",
    "* [MovieLens数据集](https://www.kesci.com/apps/home/dataset/5a69840dafceb51770d60948)\n",
    "\n",
    "* [推荐系统实践-评分预测问题](https://www.jianshu.com/p/d7e1df5714dc)\n",
    "\n",
    "* [评分预测问题](https://blog.csdn.net/jingyi130705008/article/details/80639604)\n",
    "\n",
    "* [【总结】深度学习在推荐领域的应用](https://blog.csdn.net/dengxing1234/article/details/76147052)\n",
    "\n",
    "* [专治选择困难症——bandit算法](https://zhuanlan.zhihu.com/p/21388070)"
   ]
  }
 ],
 "metadata": {
  "kernelspec": {
   "display_name": "Python 3",
   "language": "python",
   "name": "python3"
  },
  "language_info": {
   "codemirror_mode": {
    "name": "ipython",
    "version": 3
   },
   "file_extension": ".py",
   "mimetype": "text/x-python",
   "name": "python",
   "nbconvert_exporter": "python",
   "pygments_lexer": "ipython3",
   "version": "3.6.1"
  }
 },
 "nbformat": 4,
 "nbformat_minor": 2
}
