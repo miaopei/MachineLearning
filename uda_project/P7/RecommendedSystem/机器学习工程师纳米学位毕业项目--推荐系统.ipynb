{
 "cells": [
  {
   "cell_type": "markdown",
   "metadata": {},
   "source": [
    "# 机器学习工程师纳米学位毕业项目 -- 推荐系统\n",
    "\n",
    "---\n",
    "## 目录\n",
    "\n",
    "* [1. 定义](#contents1)\n",
    "\n",
    "    * [1.1 项目概述](#contents11)\n",
    "\n",
    "    * [1.2 问题称述](#contents12)\n",
    "\n",
    "    * [1.3 评价指标](#contents13)\n",
    "\n",
    "* [2. 分析](#contents2)\n",
    "\n",
    "    * [2.1 数据探索](#contents21)\n",
    "        \n",
    "        * [2.1.1 用户数据](#contents211)\n",
    "        \n",
    "        * [2.1.2 电影数据](#contents212)\n",
    "        \n",
    "        * [2.1.3 评分数据](#contents213)\n",
    "\n",
    "    * [2.2 算法和技术](#contents22)\n",
    "\n",
    "        * [2.2.1 分类算法]()\n",
    "\n",
    "        * [2.2.2 神经网络]()\n",
    "\n",
    "        * [2.2.3 卷积神经网络]()\n",
    "\n",
    "        * [2.2.4 技术]()\n",
    "        \n",
    "    * [2.4 基准模型](#contents24)\n",
    "\n",
    "* [3. 具体方法]()\n",
    "\n",
    "    * [3.1 数据预处理]()\n",
    "\n",
    "    * [3.2 实现]()\n",
    "\n",
    "    * [3.3 改进]()\n",
    "\n",
    "* [4. 结果]()\n",
    "\n",
    "    * [4.1 模型评价与验证]()\n",
    "\n",
    "    * [4.2 结果分析]()\n",
    "\n",
    "* [5. 结论]()\n",
    "\n",
    "    * [5.1 结果可视化]()\n",
    "\n",
    "    * [5.2 总结]()\n",
    "\n",
    "    * [5.3 后续改进]()"
   ]
  },
  {
   "cell_type": "markdown",
   "metadata": {},
   "source": [
    "---\n",
    "<a id='contents1'></a>\n",
    "## 1. 定义\n",
    "\n",
    "<a id='contents11'></a>\n",
    "### 1.1 项目概述\n",
    "\n",
    "随着互联网的发展，人们正处于一个信息爆炸的时代。相比于过去的信息匮乏，面对现阶段海量的信息数据，对信息的筛选和过滤成为了衡量一个系统好坏的重要指标。一个具有良好用户体验的系统，会将海量信息进行筛选、过滤，将用户最关注最感兴趣的信息展现在用户面前。这大大增加了系统工作的效率，也节省了用户筛选信息的时间。\n",
    "\n",
    "搜索引擎的出现在一定程度上解决了信息筛选问题，但还远远不够。搜索引擎需要用户主动提供关键词来对海量信息进行筛选。当用户无法准确描述自己的需求时，搜索引擎的筛选效果将大打折扣，而用户将自己的需求和意图转化成关键词的过程本身就是一个并不轻松的过程。\n",
    "\n",
    "在此背景下，推荐系统出现了，推荐系统的任务就是解决上述的问题，联系用户和信息，一方面帮助用户发现对自己有价值的信息，另一方面让信息能够展现在对他感兴趣的人群中，从而实现信息提供商与用户的双赢。\n",
    "\n",
    "传统的推荐方法主要包括协同过滤、基于内容的推荐方法和混合推荐方法。其中，最经典的算法是协同过滤，如矩阵因子分解，其利用用户与项目之间的交互信息为用户产生推荐，协同过滤是目前应用最为广泛的推荐算法，但是同时也遭遇到了严重的数据稀疏（一个用户评分过的项目仅仅占总项目数量的极少部分）和冷启动（新的用户和新的项目往往没有评分数据）问题。\n",
    "\n",
    "近年来，深度学习在图像处理、自然语言理解和语音识别等领域取得了突破性进展，已经成为人工智能的一个热潮，为推荐系统的研究带来了新的机遇。一方面，深度学习可通过学习一种深层次非线性网络结构，表征用户和项目相关的海量数据，具有强大的从样本中学习数据集本质特征的能力，能够获取用户和项目的深层次特征表示。另一方面，深度学习通过从多源异构数据中进行自动特征学习，从而将不同数据映射到一个相同的隐空间，能够获得数据的统一表征，在此基础上融合传统推荐方法进行推荐，能够有效利用多源异构数据，缓解传统推荐系统中的数据稀疏和冷启动问题。基于深度学习的推荐系统研究目前已经成为推荐系统领域的研究热点之一。\n",
    "\n",
    "本项目使用文本卷积神经网络，并利用MovieLens数据集完成电影推荐的任务。 \n",
    "\n",
    "<a id='contents12'></a>\n",
    "### 1.2 问题称述\n",
    "\n",
    "本项目使用的是[MovieLens 1M 数据集](https://grouplens.org/datasets/movielens/)，构建用户特征和电影特征，使用这两个特征实现推荐功能。\n",
    "\n",
    "本项目未实现可视化推荐，只是使用推荐结果输出的形式进行展现。项目主要解决如下问题：\n",
    "\n",
    "1. 指定用户和电影进行评分\n",
    "2. 推荐同类型的电影\n",
    "3. 推荐您喜欢的电影\n",
    "4. 看过这个电影的人还看了（喜欢）哪些电影\n",
    "\n",
    "<a id='contents13'></a>\n",
    "### 1.3 评价指标\n",
    "\n",
    "本项目使用MSE作为评估指标，根据用户特征和电影特征做向量乘法，将结果与真实评分做回归，采用MSE优化损失。\n",
    "\n",
    "平均平方误差MSE（Mean Squared Error）又被称为l2范数损失（l2-norm loss），是反映估计量与被估计量之间差异程度的一种度量。\n",
    "\n",
    "公式如下：\n",
    "\n",
    "$$MSE(y,\\hat{y}) = \\frac{1}{n_{samples}}\\sum_{i=1}^{n_{sample}}(y_{i} - \\hat{y_{i}})^{2}$$\n",
    "\n",
    "MSE可以评价数据的变化程度，MSE越小，说明模型的拟合实验数据能力强"
   ]
  },
  {
   "cell_type": "markdown",
   "metadata": {
    "collapsed": true
   },
   "source": [
    "---\n",
    "<a id='contents2'></a>\n",
    "## 2. 分析\n",
    "\n",
    "<a id='contents21'></a>\n",
    "### 2.1 数据探索和可视化\n",
    "\n",
    "本项目使用的是[MovieLens 1M 数据集](https://grouplens.org/datasets/movielens/)，这些数据集大约包含6040个用户在3900部电影上的1000209个匿名评级。\n",
    "\n",
    "数据集分为三个文件：用户数据users.dat，电影数据movies.dat和评分数据ratings.dat。\n",
    "\n",
    "<a id='contents211'></a>\n",
    "#### 2.1.1 用户数据\n",
    "\n",
    "分别有用户ID、性别、年龄、职业ID和邮编等字段。\n",
    "\n",
    "数据中的格式：UserID::Gender::Age::Occupation::Zip-code\n",
    "\n",
    "- Gender is denoted by a \"M\" for male and \"F\" for female\n",
    "- Age is chosen from the following ranges:\n",
    "\n",
    "\t*  1:  \"Under 18\"\n",
    "\t* 18:  \"18-24\"\n",
    "\t* 25:  \"25-34\"\n",
    "\t* 35:  \"35-44\"\n",
    "\t* 45:  \"45-49\"\n",
    "\t* 50:  \"50-55\"\n",
    "\t* 56:  \"56+\"\n",
    "\n",
    "- Occupation is chosen from the following choices:\n",
    "\n",
    "\t*  0:  \"other\" or not specified\n",
    "\t*  1:  \"academic/educator\"\n",
    "\t*  2:  \"artist\"\n",
    "\t*  3:  \"clerical/admin\"\n",
    "\t*  4:  \"college/grad student\"\n",
    "\t*  5:  \"customer service\"\n",
    "\t*  6:  \"doctor/health care\"\n",
    "\t*  7:  \"executive/managerial\"\n",
    "\t*  8:  \"farmer\"\n",
    "\t*  9:  \"homemaker\"\n",
    "\t* 10:  \"K-12 student\"\n",
    "\t* 11:  \"lawyer\"\n",
    "\t* 12:  \"programmer\"\n",
    "\t* 13:  \"retired\"\n",
    "\t* 14:  \"sales/marketing\"\n",
    "\t* 15:  \"scientist\"\n",
    "\t* 16:  \"self-employed\"\n",
    "\t* 17:  \"technician/engineer\"\n",
    "\t* 18:  \"tradesman/craftsman\"\n",
    "\t* 19:  \"unemployed\"\n",
    "\t* 20:  \"writer\"\n",
    "\n",
    "<img src=\"assets/user_data_head.png\"/>\n",
    "\n",
    "用户数据中年龄分布：\n",
    "\n",
    "<img src=\"assets/user_age.png\"/>\n",
    "\n",
    "用户数据中性别分布：\n",
    "\n",
    "<img src=\"assets/user_gender.png\"/>\n",
    "\n",
    "用户数据中职业分布：\n",
    "\n",
    "<img src=\"assets/user_occupationID.png\"/>\n",
    "\n",
    "从用户数据分布可以看出：\n",
    "\n",
    "- 从Age分布来看18-44岁之间看电影的人最多\n",
    "- 从Gender分布来看男性看电影人数是女性的两倍多\n",
    "- 从Occupation分布来看从事以下职业看电影人数最多\n",
    "    - 0: \"other\" or not specified\n",
    "    - 1: \"academic/educator\"\n",
    "    - 4: \"college/grad student\"\n",
    "    - 7: \"executive/managerial\"\n",
    "    - 17: \"technician/engineer\"\n",
    "\n",
    "其中邮编字段是本项目不使用的。"
   ]
  },
  {
   "cell_type": "markdown",
   "metadata": {},
   "source": [
    "<a id='contents212'></a>\n",
    "#### 2.1.2 电影数据\n",
    "\n",
    "分别有电影ID、电影名和电影风格等字段。\n",
    "\n",
    "数据中的格式：MovieID::Title::Genres\n",
    "\n",
    "- Titles are identical to titles provided by the IMDB (including\n",
    "year of release)\n",
    "- Genres are pipe-separated and are selected from the following genres:\n",
    "\n",
    "\t* Action\n",
    "\t* Adventure\n",
    "\t* Animation\n",
    "\t* Children's\n",
    "\t* Comedy\n",
    "\t* Crime\n",
    "\t* Documentary\n",
    "\t* Drama\n",
    "\t* Fantasy\n",
    "\t* Film-Noir\n",
    "\t* Horror\n",
    "\t* Musical\n",
    "\t* Mystery\n",
    "\t* Romance\n",
    "\t* Sci-Fi\n",
    "\t* Thriller\n",
    "\t* War\n",
    "\t* Western\n",
    "    \n",
    "<img src=\"assets/movie_data_head.png\"/>\n",
    "\n",
    "单词最多的Title单词个数为15个，Title如下：\n",
    "\n",
    "<img src=\"assets/max_length_titile.png\"/>"
   ]
  },
  {
   "cell_type": "markdown",
   "metadata": {},
   "source": [
    "<a id='contents213'></a>\n",
    "#### 2.1.3 评分数据\n",
    "\n",
    "分别有用户ID、电影ID、评分和时间戳等字段。\n",
    "\n",
    "数据中的格式：UserID::MovieID::Rating::Timestamp\n",
    "\n",
    "- UserIDs range between 1 and 6040 \n",
    "- MovieIDs range between 1 and 3952\n",
    "- Ratings are made on a 5-star scale (whole-star ratings only)\n",
    "- Timestamp is represented in seconds since the epoch as returned by time(2)\n",
    "- Each user has at least 20 ratings\n",
    "\n",
    "<img src=\"assets/rating_data_head.png\"/>\n",
    "\n",
    "评分数据中评分分布：\n",
    "\n",
    "<img src=\"assets/rating_rating.png\"/>\n",
    "\n",
    "从评分数据分布可以看出：\n",
    "\n",
    "- 从评分来看大多数电影的评分为3-5分\n",
    "\n",
    "评分字段Rating是本项目要学习的targets，时间戳字段本项目不使用。"
   ]
  },
  {
   "cell_type": "markdown",
   "metadata": {
    "collapsed": true
   },
   "source": [
    "<a id='contents22'></a>\n",
    "### 2.2 算法和技术\n",
    "\n",
    "\n",
    "\n",
    "<a id='contents24'></a>\n",
    "### 2.4 基准模型"
   ]
  },
  {
   "cell_type": "code",
   "execution_count": null,
   "metadata": {
    "collapsed": true
   },
   "outputs": [],
   "source": []
  },
  {
   "cell_type": "code",
   "execution_count": null,
   "metadata": {
    "collapsed": true
   },
   "outputs": [],
   "source": []
  },
  {
   "cell_type": "code",
   "execution_count": null,
   "metadata": {
    "collapsed": true
   },
   "outputs": [],
   "source": []
  },
  {
   "cell_type": "code",
   "execution_count": null,
   "metadata": {
    "collapsed": true
   },
   "outputs": [],
   "source": []
  },
  {
   "cell_type": "code",
   "execution_count": null,
   "metadata": {
    "collapsed": true
   },
   "outputs": [],
   "source": []
  },
  {
   "cell_type": "code",
   "execution_count": null,
   "metadata": {
    "collapsed": true
   },
   "outputs": [],
   "source": []
  },
  {
   "cell_type": "code",
   "execution_count": null,
   "metadata": {
    "collapsed": true
   },
   "outputs": [],
   "source": []
  },
  {
   "cell_type": "code",
   "execution_count": null,
   "metadata": {
    "collapsed": true
   },
   "outputs": [],
   "source": []
  },
  {
   "cell_type": "code",
   "execution_count": null,
   "metadata": {
    "collapsed": true
   },
   "outputs": [],
   "source": []
  },
  {
   "cell_type": "markdown",
   "metadata": {},
   "source": [
    "数据集使用：\n",
    "\n",
    "**MovieLens电影评分数据集**\n",
    "这个也是一个非常经典的数据集，数据集地址：\n",
    "\n",
    "https://grouplens.org/datasets/movielens/\n",
    "\n",
    "有用户对电影的评分，tag数据量也蛮大的，有24,000,000 ratings and 670,000 tag applications applied to 40,000 movies by 260,000 users\n",
    "\n",
    "**Last.fm音乐推荐数据集**\n",
    "这个是数据集还是蛮丰富的，有用户信息，用户听艺术家信息歌曲的信息，还有用户对艺术家打标签的侵袭，更有用户之间好友信息，数据量1892 users，17632 artists \n",
    "数据集地址：\n",
    "\n",
    "https://grouplens.org/datasets/hetrec-2011/ \n",
    "（其实这个数据集地址跟上面那个都是在一块的）\n",
    "\n",
    "这个数据集拿来做推荐的话，可以把艺术家播放次数作为用户的评分"
   ]
  },
  {
   "cell_type": "markdown",
   "metadata": {
    "collapsed": true
   },
   "source": [
    "## Reference\n",
    "\n",
    "* [深度丨从零搭建推荐体系](https://www.jianshu.com/p/d585b3938dea)\n",
    "\n",
    "* http://cjc.ict.ac.cn/online/bfpub/hlww-2018124152810.pdf\n",
    "\n",
    "* https://grouplens.org/datasets/movielens/\n",
    "\n",
    "* [使用MovieLens数据集训练的电影推荐系统](https://www.ctolib.com/chengstone-movie_recommender.html)\n",
    "\n",
    "* [推荐系统入门代码（关于MovieLens数据集）](https://www.jianshu.com/p/4df21635d13c)\n",
    "\n",
    "* [推荐系统-基于用户的最近邻协同过滤算法（MovieLens数据集）](https://blog.csdn.net/recsysml/article/details/12287587)\n",
    "\n",
    "* [基于Movielens-1M数据集实现的User Based Collaborative Filtering和Item Based Collaborative Filtering推荐算法](https://github.com/Lockvictor/MovieLens-RecSys)\n",
    "\n",
    "* [数据挖掘-MovieLens数据集_电影推荐_亲和性分析 Aprioro算法](https://blog.csdn.net/zhangyingchengqi/article/details/54924122)\n",
    "\n",
    "* [MovieLens数据集](https://www.kesci.com/apps/home/dataset/5a69840dafceb51770d60948)\n",
    "\n",
    "* [推荐系统实践-评分预测问题](https://www.jianshu.com/p/d7e1df5714dc)\n",
    "\n",
    "* [评分预测问题](https://blog.csdn.net/jingyi130705008/article/details/80639604)\n",
    "\n",
    "* [【总结】深度学习在推荐领域的应用](https://blog.csdn.net/dengxing1234/article/details/76147052)\n",
    "\n",
    "* [专治选择困难症——bandit算法](https://zhuanlan.zhihu.com/p/21388070)"
   ]
  },
  {
   "cell_type": "code",
   "execution_count": null,
   "metadata": {
    "collapsed": true
   },
   "outputs": [],
   "source": []
  }
 ],
 "metadata": {
  "kernelspec": {
   "display_name": "Python 3",
   "language": "python",
   "name": "python3"
  },
  "language_info": {
   "codemirror_mode": {
    "name": "ipython",
    "version": 3
   },
   "file_extension": ".py",
   "mimetype": "text/x-python",
   "name": "python",
   "nbconvert_exporter": "python",
   "pygments_lexer": "ipython3",
   "version": "3.6.1"
  }
 },
 "nbformat": 4,
 "nbformat_minor": 2
}
