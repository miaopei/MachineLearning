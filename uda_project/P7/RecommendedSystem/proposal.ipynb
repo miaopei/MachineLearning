{
 "cells": [
  {
   "cell_type": "markdown",
   "metadata": {},
   "source": [
    "# 机器学习工程师 -- 开题报告\n",
    "---\n",
    "\n",
    "## 项目背景\n",
    "---\n",
    "\n",
    "## 问题描述\n",
    "---\n",
    "\n",
    "## 输入数据\n",
    "---\n",
    "\n",
    "## 解决办法\n",
    "---\n",
    "\n",
    "## 基准模型\n",
    "---\n",
    "\n",
    "## 评估指标\n",
    "---\n",
    "\n",
    "## 设计大纲\n",
    "---\n",
    "\n",
    "\n"
   ]
  },
  {
   "cell_type": "code",
   "execution_count": null,
   "metadata": {
    "collapsed": true
   },
   "outputs": [],
   "source": []
  }
 ],
 "metadata": {
  "kernelspec": {
   "display_name": "Python 3",
   "language": "python",
   "name": "python3"
  },
  "language_info": {
   "codemirror_mode": {
    "name": "ipython",
    "version": 3
   },
   "file_extension": ".py",
   "mimetype": "text/x-python",
   "name": "python",
   "nbconvert_exporter": "python",
   "pygments_lexer": "ipython3",
   "version": "3.6.1"
  }
 },
 "nbformat": 4,
 "nbformat_minor": 2
}
