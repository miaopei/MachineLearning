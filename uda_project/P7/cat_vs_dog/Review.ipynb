{
 "cells": [
  {
   "cell_type": "markdown",
   "metadata": {},
   "source": [
    "除了 Kaggle 的要求之外，你还需要知道使用 𝐿𝑜𝑔𝐿𝑜𝑠𝑠 而不是 accuracy 会有什么样的优势：\n",
    "假设有两个模型，它们的准确率虽然一样，但是第一个模型会对一张的图片做出99%是1的判断，而第二个模型可能对一张的图片只做出0.6是1的判断，这样虽然不会影响准确率，但是会造成第一个模型的 𝐿𝑜𝑔𝐿𝑜𝑠𝑠 很高，这时候虽然无法用准确度区分模型的好坏，但是可以用 𝐿𝑜𝑔𝐿𝑜𝑠𝑠 来判断，因此 𝐿𝑜𝑔𝐿𝑜𝑠𝑠 是更佳选择。"
   ]
  },
  {
   "cell_type": "code",
   "execution_count": null,
   "metadata": {
    "collapsed": true
   },
   "outputs": [],
   "source": []
  }
 ],
 "metadata": {
  "kernelspec": {
   "display_name": "Python 3",
   "language": "python",
   "name": "python3"
  },
  "language_info": {
   "codemirror_mode": {
    "name": "ipython",
    "version": 3
   },
   "file_extension": ".py",
   "mimetype": "text/x-python",
   "name": "python",
   "nbconvert_exporter": "python",
   "pygments_lexer": "ipython3",
   "version": "3.5.4"
  }
 },
 "nbformat": 4,
 "nbformat_minor": 1
}
