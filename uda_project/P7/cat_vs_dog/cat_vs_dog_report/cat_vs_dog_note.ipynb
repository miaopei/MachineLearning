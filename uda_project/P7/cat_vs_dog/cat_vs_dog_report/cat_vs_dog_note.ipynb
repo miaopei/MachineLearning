{
 "cells": [
  {
   "cell_type": "code",
   "execution_count": null,
   "metadata": {
    "collapsed": true
   },
   "outputs": [],
   "source": []
  },
  {
   "cell_type": "code",
   "execution_count": null,
   "metadata": {
    "collapsed": true
   },
   "outputs": [],
   "source": []
  },
  {
   "cell_type": "markdown",
   "metadata": {},
   "source": [
    "## Reference\n",
    "\n",
    "* [udacity github 猫狗大战](https://github.com/nd009/capstone/tree/master/dog_vs_cat)\n",
    "\n",
    "* [github 猫狗大战](https://github.com/zjplus/capstone_dog_vs_cat)\n",
    "\n",
    "* [【TensorFlow实战计算机视觉】 之 猫狗大战](https://blog.csdn.net/u011574296/article/details/78426141)\n",
    "\n",
    "* [DataCastle 猫狗大战 ——Yinjh比赛全部代码](https://blog.csdn.net/DataCastle/article/details/52189723)\n",
    "\n",
    "* [DataCastle 猫狗大战 冠军——Kuhung 思路及代码](https://blog.csdn.net/DataCastle/article/details/52189638)\n",
    "\n",
    "* [手把手教你如何在Kaggle猫狗大战冲到Top2%](http://www.zhiding.cn/techwalker/documents/J9UpWRDfVYHE5WsOEHbyx4eM8fBcpHYEW_b72QCUihQ)\n",
    "\n",
    "* [Tensroflow练习](https://github.com/princewen/tensorflow_practice)\n",
    "\n",
    "* [kaggle比赛Cats vs. Dogs（猫狗大战）](https://blog.csdn.net/m0_37870649/article/details/80207254)\n",
    "\n",
    "* [利用resnet 做kaggle猫狗大战图像识别，秒上98准确率](https://blog.csdn.net/shizhengxin123/article/details/72473245)\n",
    "\n",
    "* [基于TensorFlow的Cats vs. Dogs（猫狗大战）实现和详解（1）](https://blog.csdn.net/qq_16137569/article/details/72802387)\n",
    "\n",
    "* [深度学习入门](https://www.jianshu.com/p/194a22c747b2)\n",
    "\n",
    "* [新手上路 给初学者的深度学习简介](http://www.datayuan.cn/article/14372.htm)\n",
    "\n",
    "* [机器视觉的发展历史](https://zhuanlan.zhihu.com/p/32116813)\n",
    "\n",
    "* [如何用Python和深度神经网络识别图像？](https://www.jianshu.com/p/0db025ebf0a1)\n",
    "\n",
    "* [对比图像分类五大方法：KNN、SVM、BPNN、CNN和迁移学习](https://www.jiqizhixin.com/articles/2017-05-15-7)\n",
    "\n",
    "* [手把手教你如何在Kaggle猫狗大战冲到Top2%](https://zhuanlan.zhihu.com/p/25978105)\n",
    "\n",
    "* [使用猫狗大战数据集进行一次完整的TensorFlow训练](https://blog.csdn.net/pursuit_zhangyu/article/details/80581215)\n",
    "\n",
    "* [【狗狗分类项目】（1）VGG16、VGG19、ResNet50、InceptionV3、Xception选择](https://blog.csdn.net/weixin_41770169/article/details/80525888)\n",
    "\n",
    "* [ResNet, AlexNet, VGG, Inception: 理解各种各样的CNN架构](https://www.cnblogs.com/bonelee/p/8972139.html)\n",
    "\n",
    "* [别磨叽，学完这篇你也是图像识别专家了](http://www.sohu.com/a/151663692_697750)\n",
    "\n",
    "* [ImageNet: VGGNet, ResNet, Inception, and Xception with Keras](https://www.pyimagesearch.com/2017/03/20/imagenet-vggnet-resnet-inception-xception-keras/)\n",
    "\n",
    "* [Graphviz 简易教程](http://blog.zengrong.net/post/2294.html)\n",
    "\n",
    "* [Python Graphviz 图使用示例](http://blog.topspeedsnail.com/archives/1025)\n",
    "\n",
    "* [graphviz教程](https://blog.csdn.net/mcgrady_tracy/article/details/47132485)\n",
    "\n",
    "* [绘图工具graphviz学习使用](http://hustlijian.github.io/tutorial/2015/05/29/graphviz-learn.html)\n",
    "\n",
    "* []()\n",
    "\n",
    "* []()\n",
    "\n",
    "* []()\n",
    "\n",
    "* []()\n",
    "\n",
    "* []()\n",
    "\n",
    "* []()\n",
    "\n",
    "* []()\n",
    "\n",
    "* []()\n",
    "\n",
    "* []()\n",
    "\n",
    "* []()\n",
    "\n",
    "* []()\n",
    "\n",
    "* []()\n",
    "\n",
    "* []()\n",
    "\n",
    "* []()\n",
    "\n",
    "* []()\n",
    "\n",
    "* []()\n",
    "\n",
    "* []()\n",
    "\n",
    "* []()"
   ]
  },
  {
   "cell_type": "code",
   "execution_count": null,
   "metadata": {
    "collapsed": true
   },
   "outputs": [],
   "source": []
  }
 ],
 "metadata": {
  "kernelspec": {
   "display_name": "Python 3",
   "language": "python",
   "name": "python3"
  },
  "language_info": {
   "codemirror_mode": {
    "name": "ipython",
    "version": 3
   },
   "file_extension": ".py",
   "mimetype": "text/x-python",
   "name": "python",
   "nbconvert_exporter": "python",
   "pygments_lexer": "ipython3",
   "version": "3.5.4"
  },
  "toc": {
   "nav_menu": {},
   "number_sections": true,
   "sideBar": true,
   "skip_h1_title": false,
   "toc_cell": false,
   "toc_position": {},
   "toc_section_display": "block",
   "toc_window_display": false
  }
 },
 "nbformat": 4,
 "nbformat_minor": 2
}
