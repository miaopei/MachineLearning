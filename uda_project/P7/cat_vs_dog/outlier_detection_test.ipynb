{
 "cells": [
  {
   "cell_type": "markdown",
   "metadata": {},
   "source": [
    "# 采用预处理模型剔除异常数据\n",
    "\n",
    "> [应用：数据预处理-异常值识别](https://www.jianshu.com/p/ac6418ee8e3f) - 简书\n",
    "\n",
    "> [有哪些比较好的做异常值检测的方法？](https://www.zhihu.com/question/38066650) - 知乎\n",
    "\n",
    "> [毕业设计 Dogs vs Cats For Udacity P7 (异常值检验)](https://zhuanlan.zhihu.com/p/34068451) - 知乎"
   ]
  },
  {
   "cell_type": "code",
   "execution_count": null,
   "metadata": {
    "collapsed": true
   },
   "outputs": [],
   "source": [
    "import csv\n",
    "import matplotlib.pyplot as plt\n",
    "\n",
    "%matplotlib inline  \n",
    "\n",
    "plt.style.use('seaborn-white')\n",
    "\n",
    "img_size = (299, 299)\n",
    "\n",
    "def get_imageNet_class(file_path):\n",
    "    category_class = []\n",
    "    with open(file_path, 'r') as f:\n",
    "        reader = csv.reader(f)\n",
    "        for line in reader:\n",
    "            if line[1] == '狗' or line[1] == '猫':\n",
    "                category_class.append(line[0])\n",
    "    return category_class\n",
    "\n",
    "imageNet_class = get_imageNet_class('ImageNetClasses.csv')"
   ]
  },
  {
   "cell_type": "code",
   "execution_count": null,
   "metadata": {
    "collapsed": true
   },
   "outputs": [],
   "source": [
    "import os\n",
    "\n",
    "os.chdir(\"{}/image\".format(os.getcwd()))"
   ]
  },
  {
   "cell_type": "code",
   "execution_count": null,
   "metadata": {
    "collapsed": true
   },
   "outputs": [],
   "source": [
    "from keras.applications.inception_v3 import InceptionV3\n",
    "from keras.preprocessing import image\n",
    "from keras.applications.inception_v3 import preprocess_input\n",
    "from keras.applications.inception_v3 import decode_predictions\n",
    "import numpy as np\n",
    "import random\n",
    "from math import ceil\n",
    "\n",
    "def get_outlier_predictions(train_path, model, img_size, top=10):\n",
    "    outlier_predictions = {}\n",
    "    targetnames = os.listdir(train_path)\n",
    "    for name in targetnames[:]:\n",
    "        img = image.load_img(train_path + name, target_size=img_size)\n",
    "        x = image.img_to_array(img)\n",
    "        x = np.expand_dims(x, axis=0)\n",
    "        x = preprocess_input(x)\n",
    "\n",
    "        preds = model.predict(x)\n",
    "        predictions = decode_predictions(preds, top=top)[0]\n",
    "        #if predictions not in imageNet_class:\n",
    "        #    outlier_predictions.append(name)\n",
    "        outlier_predictions[name] = predictions\n",
    "            \n",
    "    return outlier_predictions    "
   ]
  },
  {
   "cell_type": "code",
   "execution_count": null,
   "metadata": {
    "collapsed": true
   },
   "outputs": [],
   "source": [
    "model = InceptionV3(weights='imagenet')"
   ]
  },
  {
   "cell_type": "code",
   "execution_count": null,
   "metadata": {
    "collapsed": true
   },
   "outputs": [],
   "source": [
    "outlier_list = get_outlier_predictions('train/', model, img_size, 10)"
   ]
  },
  {
   "cell_type": "code",
   "execution_count": null,
   "metadata": {
    "collapsed": true
   },
   "outputs": [],
   "source": [
    "import csv\n",
    "\n",
    "def writer_csv(csv_path, data):\n",
    "    \"\"\"\n",
    "    :type csv_path: str\n",
    "    :type data: dict\n",
    "    :rtype: None\n",
    "    \"\"\"\n",
    "    with open(csv_path, 'w') as csv_file:\n",
    "        writer = csv.writer(csv_file)\n",
    "        for key, value in data.items():\n",
    "            writer.writerow([key, value])\n",
    "            \n",
    "def readr_csv(csv_path):\n",
    "    \"\"\"\n",
    "    :type cav_path: str\n",
    "    :rtpye: dict\n",
    "    \"\"\"\n",
    "    with open(csv_path, 'r') as csv_file:\n",
    "        reader = csv.reader(csv_file)\n",
    "        return dict(reader)"
   ]
  },
  {
   "cell_type": "code",
   "execution_count": null,
   "metadata": {
    "collapsed": true
   },
   "outputs": [],
   "source": [
    "csv_path = 'train_decode_predictions.csv'\n",
    "writer_csv(csv_path, outlier_list)"
   ]
  },
  {
   "cell_type": "code",
   "execution_count": null,
   "metadata": {
    "collapsed": true
   },
   "outputs": [],
   "source": [
    "outlier_list = readr_csv(csv_path)"
   ]
  },
  {
   "cell_type": "code",
   "execution_count": null,
   "metadata": {
    "collapsed": true
   },
   "outputs": [],
   "source": [
    "def get_result_list(pred):\n",
    "    result = []\n",
    "    for key, value in pred.items():\n",
    "        value = eval(value)\n",
    "        pred_list = [ x[0] for x in value ]\n",
    "        pred_list = [ 1 for x in pred_list if x in imageNet_class ]\n",
    "        if sum(pred_list) == 0:\n",
    "            result.append(key)\n",
    "        \n",
    "    return result"
   ]
  },
  {
   "cell_type": "code",
   "execution_count": null,
   "metadata": {
    "collapsed": true
   },
   "outputs": [],
   "source": [
    "outlier_result = get_result_list(outlier_list)"
   ]
  },
  {
   "cell_type": "code",
   "execution_count": null,
   "metadata": {
    "collapsed": true
   },
   "outputs": [],
   "source": [
    "import cv2\n",
    "\n",
    "def plt_outlier_img_1(outlier_list):\n",
    "    plt.figure(figsize=(16, 68), dpi=80)\n",
    "    subplot_row = ceil(len(outlier_list) / 5)\n",
    "    for i in range(0, len(outlier_list)):\n",
    "        plt.subplot(subplot_row, 5, i+1)\n",
    "        img = cv2.imread('train/'+ outlier_list[i])\n",
    "        img = cv2.resize(img, (224, 224))\n",
    "        x = img.copy()\n",
    "        x.astype(np.float32)\n",
    "        plt.title(outlier_list[i])\n",
    "        plt.axis('off')\n",
    "        plt.imshow(x[:,:,::-1])\n",
    "        \n",
    "#         img = image.load_img('train/'+ outlier_list[i])\n",
    "#         x = image.img_to_array(img)\n",
    "#         plt.title(outlier_list[i])\n",
    "#         #plt.axis('off')\n",
    "#         plt.tight_layout()\n",
    "#         plt.imshow(img)"
   ]
  },
  {
   "cell_type": "code",
   "execution_count": null,
   "metadata": {
    "collapsed": true
   },
   "outputs": [],
   "source": [
    "plt_outlier_img_1(outlier_result)"
   ]
  },
  {
   "cell_type": "code",
   "execution_count": null,
   "metadata": {
    "collapsed": true
   },
   "outputs": [],
   "source": [
    "import shutil\n",
    "\n",
    "pick_out_outlier_list = ['dog.3889.jpg', 'cat.8100.jpg', 'dog.9188.jpg', 'cat.10700.jpg', 'dog.12376.jpg',\n",
    "                        'dog.1043.jpg', 'dog.5490.jpg', 'dog.1895.jpg', 'dog.1308.jpg', 'dog.1194.jpg',\n",
    "                        'cat.7564.jpg', 'cat.3216.jpg', 'dog.4218.jpg', 'cat.4338.jpg', 'dog.5604.jpg',\n",
    "                        'cat.10712.jpg', 'dog.4367.jpg', 'dog.10237.jpg', 'cat.9171.jpg', 'dog.8736.jpg',\n",
    "                        'cat.4688.jpg', 'dog.11299.jpg', 'cat.10029.jpg', 'cat.7968.jpg', 'cat.8470.jpg',\n",
    "                        'cat.3868.jpg', 'dog.2614.jpg', 'cat.5418.jpg', 'cat.7377.jpg', 'cat.12272.jpg',\n",
    "                        'dog.10161.jpg', 'dog.1259.jpg', 'dog.1773.jpg', 'dog.6475.jpg', 'dog.11186.jpg',\n",
    "                        'cat.11184.jpg', 'cat.2939.jpg', 'dog.10747.jpg', 'dog.9517.jpg', 'dog.10190.jpg',\n",
    "                        'cat.8456.jpg', 'dog.10801.jpg', 'dog.8898.jpg']\n",
    "\n",
    "print(\"Len outlier_list: {}\".format(len(pick_out_outlier_list)))\n",
    "plt.figure(figsize=(12, 20))\n",
    "subplot_row = ceil(len(pick_out_outlier_list) / 5)\n",
    "for i in range(0, len(pick_out_outlier_list)):\n",
    "    plt.subplot(subplot_row, 5, i+1)\n",
    "    img = image.load_img('train/'+ pick_out_outlier_list[i])\n",
    "    plt.title(pick_out_outlier_list[i])\n",
    "    plt.axis('off')\n",
    "    plt.imshow(img)\n",
    "    shutil.move('train/' + pick_out_outlier_list[i], 'outlier/' + pick_out_outlier_list[i])"
   ]
  },
  {
   "cell_type": "code",
   "execution_count": null,
   "metadata": {
    "collapsed": true
   },
   "outputs": [],
   "source": []
  }
 ],
 "metadata": {
  "kernelspec": {
   "display_name": "Python 3",
   "language": "python",
   "name": "python3"
  },
  "language_info": {
   "codemirror_mode": {
    "name": "ipython",
    "version": 3
   },
   "file_extension": ".py",
   "mimetype": "text/x-python",
   "name": "python",
   "nbconvert_exporter": "python",
   "pygments_lexer": "ipython3",
   "version": "3.5.4"
  }
 },
 "nbformat": 4,
 "nbformat_minor": 1
}
