{
 "cells": [
  {
   "cell_type": "markdown",
   "metadata": {
    "collapsed": true
   },
   "source": [
    "# 实施主要包含以下几个步骤:\n",
    "\n",
    "* 数据预处理\n",
    "* 导出特征向量（不需要重复计算）\n",
    "* 载入特征向量\n",
    "* 构建模型\n",
    "* 训练模型\n",
    "* 预测结果"
   ]
  },
  {
   "cell_type": "markdown",
   "metadata": {},
   "source": [
    "## 步骤一：数据预处理"
   ]
  },
  {
   "cell_type": "code",
   "execution_count": 2,
   "metadata": {
    "collapsed": true
   },
   "outputs": [],
   "source": [
    "import os\n",
    "import shutil\n",
    "os.chdir(\"{}/image\".format(os.getcwd())) \n",
    "train_filenames = os.listdir('train')\n",
    "train_cat = filter(lambda x:x[:3] == 'cat', train_filenames)\n",
    "train_dog = filter(lambda x:x[:3] == 'dog', train_filenames)\n",
    "\n",
    "def rmrf_mkdir(dirname):\n",
    "    if os.path.exists(dirname):\n",
    "        shutil.rmtree(dirname)\n",
    "    os.mkdir(dirname)\n",
    "\n",
    "rmrf_mkdir('train2')\n",
    "os.mkdir('train2/cat')\n",
    "os.mkdir('train2/dog')\n",
    "\n",
    "rmrf_mkdir('test2')\n",
    "os.symlink('../test/', 'test2/test')\n",
    "\n",
    "for filename in train_cat:\n",
    "    os.symlink('../../train/'+filename, 'train2/cat/'+filename)\n",
    "\n",
    "for filename in train_dog:\n",
    "    os.symlink('../../train/'+filename, 'train2/dog/'+filename)\n",
    "os.chdir(\"..\")     "
   ]
  },
  {
   "cell_type": "markdown",
   "metadata": {},
   "source": [
    "结构如下：\n",
    "\n",
    "```\n",
    "├── image\n",
    "│   ├── img_test\n",
    "│   │   └── test\n",
    "│   ├── img_train\n",
    "│   │   ├── cat\n",
    "│   │   └── dog\n",
    "│   ├── img_valid\n",
    "│   │   ├── cat\n",
    "│   │   └── dog\n",
    "│   ├── test\n",
    "│   ├── test2\n",
    "│   │   └── test -> ../test/\n",
    "│   ├── train\n",
    "│   ├── train2\n",
    "│   │   ├── cat\n",
    "│   │   └── dog\n",
    "```"
   ]
  },
  {
   "cell_type": "markdown",
   "metadata": {},
   "source": [
    "## 步骤二：导出特征向量"
   ]
  },
  {
   "cell_type": "code",
   "execution_count": 3,
   "metadata": {
    "collapsed": false
   },
   "outputs": [
    {
     "name": "stderr",
     "output_type": "stream",
     "text": [
      "/home/calvin.zhang/miniconda3/envs/dlnd-tf-lab-new/lib/python3.5/site-packages/h5py/__init__.py:36: FutureWarning: Conversion of the second argument of issubdtype from `float` to `np.floating` is deprecated. In future, it will be treated as `np.float64 == np.dtype(float).type`.\n",
      "  from ._conv import register_converters as _register_converters\n",
      "Using TensorFlow backend.\n"
     ]
    }
   ],
   "source": [
    "from keras.models import *\n",
    "from keras.layers import *\n",
    "from keras.applications import *\n",
    "from keras.preprocessing.image import *\n",
    "from keras.callbacks import ModelCheckpoint, TensorBoard\n",
    "\n",
    "import h5py\n",
    "\n",
    "def write_gap(MODEL, image_size, lambda_func=None):\n",
    "    width = image_size[0]\n",
    "    height = image_size[1]\n",
    "    input_tensor = Input((height, width, 3))\n",
    "    x = input_tensor\n",
    "    if lambda_func:\n",
    "        x = Lambda(lambda_func)(x)\n",
    "    \n",
    "    base_model = MODEL(input_tensor=x, weights='imagenet', include_top=False)\n",
    "    model = Model(base_model.input, GlobalAveragePooling2D()(base_model.output))\n",
    "\n",
    "    gen = ImageDataGenerator()\n",
    "    train_generator = gen.flow_from_directory(\"image/train2\", image_size, shuffle=False, \n",
    "                                              batch_size=16)\n",
    "    test_generator = gen.flow_from_directory(\"image/test2\", image_size, shuffle=False, \n",
    "                                             batch_size=16, class_mode=None)\n",
    "\n",
    "    train = model.predict_generator(train_generator, train_generator.nb_sample)\n",
    "    test = model.predict_generator(test_generator, test_generator.nb_sample)\n",
    "    with h5py.File(\"gap_%s.h5\"%MODEL.__name__) as h:\n",
    "        h.create_dataset(\"train\", data=train)\n",
    "        h.create_dataset(\"test\", data=test)\n",
    "        h.create_dataset(\"label\", data=train_generator.classes)"
   ]
  },
  {
   "cell_type": "code",
   "execution_count": 4,
   "metadata": {
    "collapsed": false
   },
   "outputs": [],
   "source": [
    "# write_gap(ResNet50, (224, 224))\n",
    "# write_gap(InceptionV3, (299, 299), inception_v3.preprocess_input)\n",
    "# write_gap(Xception, (299, 299), xception.preprocess_input)\n",
    "\n",
    "# write_gap(VGG16, (299, 299))\n",
    "# write_gap(VGG19, (299, 299))"
   ]
  },
  {
   "cell_type": "markdown",
   "metadata": {},
   "source": [
    "## 步骤三：载入特征向量"
   ]
  },
  {
   "cell_type": "code",
   "execution_count": 5,
   "metadata": {
    "collapsed": false
   },
   "outputs": [
    {
     "name": "stdout",
     "output_type": "stream",
     "text": [
      "12500 25000\n"
     ]
    }
   ],
   "source": [
    "import h5py\n",
    "import numpy as np\n",
    "from sklearn.utils import shuffle\n",
    "np.random.seed(2018)\n",
    "\n",
    "X_train = []\n",
    "X_test = []\n",
    "\n",
    "for filename in [\"gap_ResNet50.h5\", \"gap_InceptionV3.h5\",\"gap_VGG16.h5\"]:\n",
    "    with h5py.File(filename, 'r') as h:\n",
    "        X_train.append(np.array(h['train']))\n",
    "        X_test.append(np.array(h['test']))\n",
    "        y_train = np.array(h['label'])\n",
    "\n",
    "X_train = np.concatenate(X_train, axis=1)\n",
    "X_test = np.concatenate(X_test, axis=1)\n",
    "print(len(X_test),len(X_train))\n",
    "\n",
    "X_train, y_train = shuffle(X_train, y_train)"
   ]
  },
  {
   "cell_type": "markdown",
   "metadata": {},
   "source": [
    "## 步骤四：搭建模型"
   ]
  },
  {
   "cell_type": "code",
   "execution_count": 6,
   "metadata": {
    "collapsed": false
   },
   "outputs": [
    {
     "name": "stderr",
     "output_type": "stream",
     "text": [
      "/home/calvin.zhang/miniconda3/envs/dlnd-tf-lab-new/lib/python3.5/site-packages/ipykernel/__main__.py:11: UserWarning: Update your `Model` call to the Keras 2 API: `Model(inputs=Tensor(\"in..., outputs=Tensor(\"de...)`\n"
     ]
    }
   ],
   "source": [
    "from keras.models import *\n",
    "from keras.layers import *\n",
    "\n",
    "np.random.seed(4)\n",
    "\n",
    "input_tensor = Input(X_train.shape[1:])\n",
    "\n",
    "x = Dropout(0.5)(input_tensor)\n",
    "x = Dense(1, activation='sigmoid')(x)\n",
    "\n",
    "model = Model(input=input_tensor, output=x)\n",
    "model.compile(optimizer='adam',loss='binary_crossentropy',metrics=['accuracy'])"
   ]
  },
  {
   "cell_type": "markdown",
   "metadata": {},
   "source": [
    "## 步骤四：训练模型"
   ]
  },
  {
   "cell_type": "code",
   "execution_count": 7,
   "metadata": {
    "collapsed": false
   },
   "outputs": [
    {
     "data": {
      "image/svg+xml": [
       "<svg height=\"191pt\" viewBox=\"0.00 0.00 133.00 191.00\" width=\"133pt\" xmlns=\"http://www.w3.org/2000/svg\" xmlns:xlink=\"http://www.w3.org/1999/xlink\">\n",
       "<g class=\"graph\" id=\"graph0\" transform=\"scale(1 1) rotate(0) translate(4 187)\">\n",
       "<title>G</title>\n",
       "<polygon fill=\"white\" points=\"-4,4 -4,-187 129,-187 129,4 -4,4\" stroke=\"none\"/>\n",
       "<!-- 139721061597312 -->\n",
       "<g class=\"node\" id=\"node1\"><title>139721061597312</title>\n",
       "<polygon fill=\"none\" points=\"-7.10543e-15,-146.5 -7.10543e-15,-182.5 125,-182.5 125,-146.5 -7.10543e-15,-146.5\" stroke=\"black\"/>\n",
       "<text font-family=\"Times,serif\" font-size=\"14.00\" text-anchor=\"middle\" x=\"62.5\" y=\"-160.8\">input_1: InputLayer</text>\n",
       "</g>\n",
       "<!-- 139721061597256 -->\n",
       "<g class=\"node\" id=\"node2\"><title>139721061597256</title>\n",
       "<polygon fill=\"none\" points=\"-7.10543e-15,-73.5 -7.10543e-15,-109.5 125,-109.5 125,-73.5 -7.10543e-15,-73.5\" stroke=\"black\"/>\n",
       "<text font-family=\"Times,serif\" font-size=\"14.00\" text-anchor=\"middle\" x=\"62.5\" y=\"-87.8\">dropout_1: Dropout</text>\n",
       "</g>\n",
       "<!-- 139721061597312&#45;&gt;139721061597256 -->\n",
       "<g class=\"edge\" id=\"edge1\"><title>139721061597312-&gt;139721061597256</title>\n",
       "<path d=\"M62.5,-146.313C62.5,-138.289 62.5,-128.547 62.5,-119.569\" fill=\"none\" stroke=\"black\"/>\n",
       "<polygon fill=\"black\" points=\"66.0001,-119.529 62.5,-109.529 59.0001,-119.529 66.0001,-119.529\" stroke=\"black\"/>\n",
       "</g>\n",
       "<!-- 139721061553152 -->\n",
       "<g class=\"node\" id=\"node3\"><title>139721061553152</title>\n",
       "<polygon fill=\"none\" points=\"11.5,-0.5 11.5,-36.5 113.5,-36.5 113.5,-0.5 11.5,-0.5\" stroke=\"black\"/>\n",
       "<text font-family=\"Times,serif\" font-size=\"14.00\" text-anchor=\"middle\" x=\"62.5\" y=\"-14.8\">dense_1: Dense</text>\n",
       "</g>\n",
       "<!-- 139721061597256&#45;&gt;139721061553152 -->\n",
       "<g class=\"edge\" id=\"edge2\"><title>139721061597256-&gt;139721061553152</title>\n",
       "<path d=\"M62.5,-73.3129C62.5,-65.2895 62.5,-55.5475 62.5,-46.5691\" fill=\"none\" stroke=\"black\"/>\n",
       "<polygon fill=\"black\" points=\"66.0001,-46.5288 62.5,-36.5288 59.0001,-46.5289 66.0001,-46.5288\" stroke=\"black\"/>\n",
       "</g>\n",
       "</g>\n",
       "</svg>"
      ],
      "text/plain": [
       "<IPython.core.display.SVG object>"
      ]
     },
     "execution_count": 7,
     "metadata": {},
     "output_type": "execute_result"
    }
   ],
   "source": [
    "from IPython.display import SVG\n",
    "from keras.utils.vis_utils import model_to_dot\n",
    "\n",
    "SVG(model_to_dot(model).create(prog='dot', format='svg'))"
   ]
  },
  {
   "cell_type": "code",
   "execution_count": 8,
   "metadata": {
    "collapsed": false
   },
   "outputs": [
    {
     "name": "stderr",
     "output_type": "stream",
     "text": [
      "/home/calvin.zhang/miniconda3/envs/dlnd-tf-lab-new/lib/python3.5/site-packages/ipykernel/__main__.py:2: UserWarning: The `nb_epoch` argument in `fit` has been renamed `epochs`.\n",
      "  from ipykernel import kernelapp as app\n"
     ]
    },
    {
     "name": "stdout",
     "output_type": "stream",
     "text": [
      "Train on 20000 samples, validate on 5000 samples\n",
      "Epoch 1/40\n",
      "20000/20000 [==============================] - 1s 38us/step - loss: 0.1015 - acc: 0.9614 - val_loss: 0.0289 - val_acc: 0.9898\n",
      "Epoch 2/40\n",
      "20000/20000 [==============================] - 1s 25us/step - loss: 0.0348 - acc: 0.9879 - val_loss: 0.0247 - val_acc: 0.9910\n",
      "Epoch 3/40\n",
      "20000/20000 [==============================] - 1s 27us/step - loss: 0.0291 - acc: 0.9896 - val_loss: 0.0244 - val_acc: 0.9918\n",
      "Epoch 4/40\n",
      "20000/20000 [==============================] - 0s 24us/step - loss: 0.0238 - acc: 0.9913 - val_loss: 0.0237 - val_acc: 0.9920\n",
      "Epoch 5/40\n",
      "20000/20000 [==============================] - 0s 23us/step - loss: 0.0195 - acc: 0.9934 - val_loss: 0.0262 - val_acc: 0.9906\n",
      "Epoch 6/40\n",
      "20000/20000 [==============================] - 1s 26us/step - loss: 0.0198 - acc: 0.9930 - val_loss: 0.0240 - val_acc: 0.9914\n",
      "Epoch 7/40\n",
      "20000/20000 [==============================] - 1s 30us/step - loss: 0.0184 - acc: 0.9932 - val_loss: 0.0244 - val_acc: 0.9906\n",
      "Epoch 8/40\n",
      "20000/20000 [==============================] - 1s 26us/step - loss: 0.0157 - acc: 0.9944 - val_loss: 0.0228 - val_acc: 0.9926\n",
      "Epoch 9/40\n",
      "20000/20000 [==============================] - 1s 26us/step - loss: 0.0141 - acc: 0.9953 - val_loss: 0.0237 - val_acc: 0.9916\n",
      "Epoch 10/40\n",
      "20000/20000 [==============================] - 0s 24us/step - loss: 0.0156 - acc: 0.9945 - val_loss: 0.0269 - val_acc: 0.9924\n",
      "Epoch 11/40\n",
      "20000/20000 [==============================] - 1s 26us/step - loss: 0.0128 - acc: 0.9953 - val_loss: 0.0241 - val_acc: 0.9922\n",
      "Epoch 12/40\n",
      "20000/20000 [==============================] - 1s 27us/step - loss: 0.0148 - acc: 0.9947 - val_loss: 0.0251 - val_acc: 0.9916\n",
      "Epoch 13/40\n",
      "20000/20000 [==============================] - 1s 27us/step - loss: 0.0154 - acc: 0.9939 - val_loss: 0.0247 - val_acc: 0.9924\n",
      "Epoch 14/40\n",
      "20000/20000 [==============================] - 1s 28us/step - loss: 0.0133 - acc: 0.9953 - val_loss: 0.0247 - val_acc: 0.9920\n",
      "Epoch 15/40\n",
      "20000/20000 [==============================] - 1s 29us/step - loss: 0.0141 - acc: 0.9950 - val_loss: 0.0256 - val_acc: 0.9914\n",
      "Epoch 16/40\n",
      "20000/20000 [==============================] - 1s 27us/step - loss: 0.0118 - acc: 0.9961 - val_loss: 0.0253 - val_acc: 0.9916\n",
      "Epoch 17/40\n",
      "20000/20000 [==============================] - 0s 25us/step - loss: 0.0127 - acc: 0.9955 - val_loss: 0.0250 - val_acc: 0.9926\n",
      "Epoch 18/40\n",
      "20000/20000 [==============================] - 0s 25us/step - loss: 0.0128 - acc: 0.9954 - val_loss: 0.0244 - val_acc: 0.9920\n",
      "Epoch 19/40\n",
      "20000/20000 [==============================] - 0s 24us/step - loss: 0.0125 - acc: 0.9959 - val_loss: 0.0266 - val_acc: 0.9914\n",
      "Epoch 20/40\n",
      "20000/20000 [==============================] - 0s 21us/step - loss: 0.0136 - acc: 0.9951 - val_loss: 0.0242 - val_acc: 0.9928\n",
      "Epoch 21/40\n",
      "20000/20000 [==============================] - 0s 24us/step - loss: 0.0109 - acc: 0.9960 - val_loss: 0.0291 - val_acc: 0.9918\n",
      "Epoch 22/40\n",
      "20000/20000 [==============================] - 1s 25us/step - loss: 0.0131 - acc: 0.9955 - val_loss: 0.0242 - val_acc: 0.9922\n",
      "Epoch 23/40\n",
      "20000/20000 [==============================] - 1s 28us/step - loss: 0.0122 - acc: 0.9959 - val_loss: 0.0254 - val_acc: 0.9922\n",
      "Epoch 24/40\n",
      "20000/20000 [==============================] - 0s 24us/step - loss: 0.0122 - acc: 0.9955 - val_loss: 0.0258 - val_acc: 0.9930\n",
      "Epoch 25/40\n",
      "20000/20000 [==============================] - 0s 23us/step - loss: 0.0089 - acc: 0.9966 - val_loss: 0.0259 - val_acc: 0.9922\n",
      "Epoch 26/40\n",
      "20000/20000 [==============================] - 1s 29us/step - loss: 0.0110 - acc: 0.9960 - val_loss: 0.0271 - val_acc: 0.9928\n",
      "Epoch 27/40\n",
      "20000/20000 [==============================] - 1s 27us/step - loss: 0.0110 - acc: 0.9963 - val_loss: 0.0293 - val_acc: 0.9926\n",
      "Epoch 28/40\n",
      "20000/20000 [==============================] - 1s 27us/step - loss: 0.0103 - acc: 0.9960 - val_loss: 0.0275 - val_acc: 0.9922\n",
      "Epoch 29/40\n",
      "20000/20000 [==============================] - 1s 26us/step - loss: 0.0116 - acc: 0.9959 - val_loss: 0.0270 - val_acc: 0.9926\n",
      "Epoch 30/40\n",
      "20000/20000 [==============================] - 0s 24us/step - loss: 0.0138 - acc: 0.9957 - val_loss: 0.0285 - val_acc: 0.9910\n",
      "Epoch 31/40\n",
      "20000/20000 [==============================] - 1s 27us/step - loss: 0.0105 - acc: 0.9970 - val_loss: 0.0291 - val_acc: 0.9914\n",
      "Epoch 32/40\n",
      "20000/20000 [==============================] - 1s 29us/step - loss: 0.0101 - acc: 0.9967 - val_loss: 0.0341 - val_acc: 0.9910\n",
      "Epoch 33/40\n",
      "20000/20000 [==============================] - 0s 25us/step - loss: 0.0103 - acc: 0.9966 - val_loss: 0.0293 - val_acc: 0.9926\n",
      "Epoch 34/40\n",
      "20000/20000 [==============================] - 0s 25us/step - loss: 0.0115 - acc: 0.9963 - val_loss: 0.0300 - val_acc: 0.9924\n",
      "Epoch 35/40\n",
      "20000/20000 [==============================] - 1s 25us/step - loss: 0.0081 - acc: 0.9969 - val_loss: 0.0307 - val_acc: 0.9922\n",
      "Epoch 36/40\n",
      "20000/20000 [==============================] - 0s 24us/step - loss: 0.0076 - acc: 0.9977 - val_loss: 0.0312 - val_acc: 0.9926\n",
      "Epoch 37/40\n",
      "20000/20000 [==============================] - 0s 25us/step - loss: 0.0105 - acc: 0.9965 - val_loss: 0.0312 - val_acc: 0.9936\n",
      "Epoch 38/40\n",
      "20000/20000 [==============================] - 1s 28us/step - loss: 0.0096 - acc: 0.9965 - val_loss: 0.0322 - val_acc: 0.9916\n",
      "Epoch 39/40\n",
      "20000/20000 [==============================] - 1s 25us/step - loss: 0.0114 - acc: 0.9963 - val_loss: 0.0317 - val_acc: 0.9924\n",
      "Epoch 40/40\n",
      "20000/20000 [==============================] - 1s 25us/step - loss: 0.0108 - acc: 0.9969 - val_loss: 0.0342 - val_acc: 0.9914\n"
     ]
    }
   ],
   "source": [
    "# hist = model.fit(X_train, y_train, batch_size=128, epochs=20, validation_split=0.2)\n",
    "hist = model.fit(X_train, y_train, batch_size=128, nb_epoch=40, validation_split=0.2, callbacks=[TensorBoard(log_dir='union_tensorlog')])"
   ]
  },
  {
   "cell_type": "code",
   "execution_count": 9,
   "metadata": {
    "collapsed": false
   },
   "outputs": [
    {
     "data": {
      "image/png": "[encoded data removed]",
      "text/plain": [
       "<matplotlib.figure.Figure at 0x7f13a32d12b0>"
      ]
     },
     "metadata": {},
     "output_type": "display_data"
    },
    {
     "data": {
      "image/png": "[encoded data removed]",
      "text/plain": [
       "<matplotlib.figure.Figure at 0x7f1320f0c860>"
      ]
     },
     "metadata": {},
     "output_type": "display_data"
    }
   ],
   "source": [
    "import matplotlib.pyplot as plt\n",
    "%matplotlib inline\n",
    "# 画图\n",
    "def plot_training(history):\n",
    "  acc = history.history['acc']\n",
    "  val_acc = history.history['val_acc']\n",
    "  loss = history.history['loss']\n",
    "  val_loss = history.history['val_loss']\n",
    "  epochs = range(len(acc))\n",
    "  plt.plot(epochs, acc, 'r.')\n",
    "  plt.plot(epochs, val_acc, 'r')\n",
    "  plt.title('Training and validation accuracy')\n",
    "  plt.figure()\n",
    "  plt.plot(epochs, loss, 'r.')\n",
    "  plt.plot(epochs, val_loss, 'r-')\n",
    "  plt.title('Training and validation loss')\n",
    "  plt.show()\n",
    "\n",
    "# 训练的acc_loss图\n",
    "plot_training(hist)"
   ]
  },
  {
   "cell_type": "markdown",
   "metadata": {},
   "source": [
    "## 预测结果"
   ]
  },
  {
   "cell_type": "code",
   "execution_count": 10,
   "metadata": {
    "collapsed": false
   },
   "outputs": [
    {
     "name": "stdout",
     "output_type": "stream",
     "text": [
      "12500/12500 [==============================] - 0s 28us/step\n",
      "Found 12500 images belonging to 1 classes.\n"
     ]
    },
    {
     "name": "stderr",
     "output_type": "stream",
     "text": [
      "/home/calvin.zhang/miniconda3/envs/dlnd-tf-lab-new/lib/python3.5/site-packages/ipykernel/__main__.py:15: FutureWarning: set_value is deprecated and will be removed in a future release. Please use .at[] or .iat[] accessors instead\n"
     ]
    },
    {
     "data": {
      "text/html": [
       "<div>\n",
       "<style scoped>\n",
       "    .dataframe tbody tr th:only-of-type {\n",
       "        vertical-align: middle;\n",
       "    }\n",
       "\n",
       "    .dataframe tbody tr th {\n",
       "        vertical-align: top;\n",
       "    }\n",
       "\n",
       "    .dataframe thead th {\n",
       "        text-align: right;\n",
       "    }\n",
       "</style>\n",
       "<table border=\"1\" class=\"dataframe\">\n",
       "  <thead>\n",
       "    <tr style=\"text-align: right;\">\n",
       "      <th></th>\n",
       "      <th>id</th>\n",
       "      <th>label</th>\n",
       "    </tr>\n",
       "  </thead>\n",
       "  <tbody>\n",
       "    <tr>\n",
       "      <th>0</th>\n",
       "      <td>1</td>\n",
       "      <td>0.995</td>\n",
       "    </tr>\n",
       "    <tr>\n",
       "      <th>1</th>\n",
       "      <td>2</td>\n",
       "      <td>0.005</td>\n",
       "    </tr>\n",
       "    <tr>\n",
       "      <th>2</th>\n",
       "      <td>3</td>\n",
       "      <td>0.995</td>\n",
       "    </tr>\n",
       "    <tr>\n",
       "      <th>3</th>\n",
       "      <td>4</td>\n",
       "      <td>0.995</td>\n",
       "    </tr>\n",
       "    <tr>\n",
       "      <th>4</th>\n",
       "      <td>5</td>\n",
       "      <td>0.005</td>\n",
       "    </tr>\n",
       "    <tr>\n",
       "      <th>5</th>\n",
       "      <td>6</td>\n",
       "      <td>0.005</td>\n",
       "    </tr>\n",
       "    <tr>\n",
       "      <th>6</th>\n",
       "      <td>7</td>\n",
       "      <td>0.005</td>\n",
       "    </tr>\n",
       "    <tr>\n",
       "      <th>7</th>\n",
       "      <td>8</td>\n",
       "      <td>0.005</td>\n",
       "    </tr>\n",
       "    <tr>\n",
       "      <th>8</th>\n",
       "      <td>9</td>\n",
       "      <td>0.005</td>\n",
       "    </tr>\n",
       "    <tr>\n",
       "      <th>9</th>\n",
       "      <td>10</td>\n",
       "      <td>0.005</td>\n",
       "    </tr>\n",
       "  </tbody>\n",
       "</table>\n",
       "</div>"
      ],
      "text/plain": [
       "   id  label\n",
       "0   1  0.995\n",
       "1   2  0.005\n",
       "2   3  0.995\n",
       "3   4  0.995\n",
       "4   5  0.005\n",
       "5   6  0.005\n",
       "6   7  0.005\n",
       "7   8  0.005\n",
       "8   9  0.005\n",
       "9  10  0.005"
      ]
     },
     "execution_count": 10,
     "metadata": {},
     "output_type": "execute_result"
    }
   ],
   "source": [
    "y_pred = model.predict(X_test, verbose=1)\n",
    "y_pred = y_pred.clip(min=0.005, max=0.995)\n",
    "\n",
    "import pandas as pd\n",
    "from keras.preprocessing.image import *\n",
    "\n",
    "df = pd.read_csv(\"sample_submission.csv\")\n",
    "\n",
    "gen = ImageDataGenerator()\n",
    "test_generator = gen.flow_from_directory(\"image/test2\", (224, 224), shuffle=False, \n",
    "                                         batch_size=16, class_mode=None)\n",
    "\n",
    "for i, fname in enumerate(test_generator.filenames):\n",
    "    index = int(fname[fname.rfind('/')+1:fname.rfind('.')])\n",
    "    df.set_value(index-1, 'label', y_pred[i])\n",
    "\n",
    "df.to_csv('submission_union.csv', index=None)\n",
    "df.head(10)"
   ]
  },
  {
   "cell_type": "code",
   "execution_count": null,
   "metadata": {
    "collapsed": true
   },
   "outputs": [],
   "source": []
  }
 ],
 "metadata": {
  "kernelspec": {
   "display_name": "Python 3",
   "language": "python",
   "name": "python3"
  }
 },
 "nbformat": 4,
 "nbformat_minor": 1
}
