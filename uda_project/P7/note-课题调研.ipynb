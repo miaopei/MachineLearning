{
 "cells": [
  {
   "cell_type": "markdown",
   "metadata": {},
   "source": [
    "## 1. 使用深度学习构建推介系统\n",
    "\n"
   ]
  },
  {
   "cell_type": "markdown",
   "metadata": {},
   "source": [
    "## Reference\n",
    "\n",
    "[AI 在 marketing 上的应用](https://mp.weixin.qq.com/s/A4cy95JutyDI8HfkWkS5Aw)\n",
    "\n",
    "[一篇文章，带小白了解推荐系统](https://mp.weixin.qq.com/s?__biz=MzI4MDYzNzg4Mw==&mid=2247487708&idx=1&sn=63c14c11026f59daa236274c1deb153f&chksm=ebb42808dcc3a11e54460f3fb196c854ab1b9bd18222cc3296f9c87cf4c8588c4fba1362c03f&mpshare=1&scene=24&srcid=0515Z5ZAumXH73cPMvtebRUn#rd)\n",
    "\n",
    "[]()\n",
    "\n",
    "[]()\n",
    "\n",
    "[]()\n",
    "\n",
    "[]()\n",
    "\n",
    "[]()\n",
    "\n",
    "[]()\n",
    "\n",
    "[]()\n",
    "\n",
    "[]()"
   ]
  }
 ],
 "metadata": {
  "kernelspec": {
   "display_name": "Python 3",
   "language": "python",
   "name": "python3"
  },
  "language_info": {
   "codemirror_mode": {
    "name": "ipython",
    "version": 3
   },
   "file_extension": ".py",
   "mimetype": "text/x-python",
   "name": "python",
   "nbconvert_exporter": "python",
   "pygments_lexer": "ipython3",
   "version": "3.6.1"
  }
 },
 "nbformat": 4,
 "nbformat_minor": 2
}
