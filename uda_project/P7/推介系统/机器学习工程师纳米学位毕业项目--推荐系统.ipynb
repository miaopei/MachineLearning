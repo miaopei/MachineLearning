{
 "cells": [
  {
   "cell_type": "markdown",
   "metadata": {},
   "source": [
    "# 机器学习工程师纳米学位毕业项目 -- 推荐系统\n",
    "\n",
    "---\n",
    "## 目录\n",
    "\n",
    "* [1. 定义](#contents1)\n",
    "\n",
    "    * [1.1 项目概述](#contents11)\n",
    "\n",
    "    * [1.2 问题称述](#contents12)\n",
    "\n",
    "    * [1.3 评价指标](#contents13)\n",
    "\n",
    "* [2. 分析](#contents2)\n",
    "\n",
    "    * [2.1 数据可视化](#contents21)\n",
    "\n",
    "    * [2.2 算法和技术](#contents22)\n",
    "\n",
    "        * [2.2.1 分类算法]()\n",
    "\n",
    "        * [2.2.2 神经网络]()\n",
    "\n",
    "        * [2.2.3 卷积神经网络]()\n",
    "\n",
    "        * [2.2.4 技术]()\n",
    "\n",
    "* [3. 具体方法]()\n",
    "\n",
    "    * [3.1 数据预处理]()\n",
    "\n",
    "    * [3.2 实现]()\n",
    "\n",
    "    * [3.3 改进]()\n",
    "\n",
    "* [4. 结果]()\n",
    "\n",
    "    * [4.1 模型评价与验证]()\n",
    "\n",
    "    * [4.2 结果分析]()\n",
    "\n",
    "* [5. 结论]()\n",
    "\n",
    "    * [5.1 结果可视化]()\n",
    "\n",
    "    * [5.2 总结]()\n",
    "\n",
    "    * [5.3 后续改进]()"
   ]
  },
  {
   "cell_type": "markdown",
   "metadata": {},
   "source": [
    "---\n",
    "<a id='contents1'></a>\n",
    "## 1. 定义"
   ]
  },
  {
   "cell_type": "code",
   "execution_count": null,
   "metadata": {
    "collapsed": true
   },
   "outputs": [],
   "source": []
  }
 ],
 "metadata": {
  "kernelspec": {
   "display_name": "Python 3",
   "language": "python",
   "name": "python3"
  },
  "language_info": {
   "codemirror_mode": {
    "name": "ipython",
    "version": 3
   },
   "file_extension": ".py",
   "mimetype": "text/x-python",
   "name": "python",
   "nbconvert_exporter": "python",
   "pygments_lexer": "ipython3",
   "version": "3.6.1"
  }
 },
 "nbformat": 4,
 "nbformat_minor": 2
}
