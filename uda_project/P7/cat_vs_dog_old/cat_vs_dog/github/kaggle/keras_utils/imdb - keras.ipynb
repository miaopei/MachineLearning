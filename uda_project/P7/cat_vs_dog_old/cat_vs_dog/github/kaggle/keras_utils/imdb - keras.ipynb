{
 "cells": [
  {
   "cell_type": "markdown",
   "metadata": {},
   "source": [
    "# Glove to word vectors\n",
    "[Glove](https://nlp.stanford.edu/projects/glove/) is an improved model of [word2vec](https://www.tensorflow.org/tutorials/word2vec) without losing too much context in the corps."
   ]
  },
  {
   "cell_type": "code",
   "execution_count": 1,
   "metadata": {
    "collapsed": true
   },
   "outputs": [],
   "source": [
    "import pickle\n",
    "import numpy as np\n",
    "import matplotlib\n",
    "import matplotlib.pyplot as plt\n",
    "%matplotlib inline"
   ]
  },
  {
   "cell_type": "code",
   "execution_count": 2,
   "metadata": {
    "collapsed": true
   },
   "outputs": [],
   "source": [
    "filename = 'glove.6B.50d.txt'\n",
    "\n",
    "glove = {}\n",
    "with open(filename, encoding='UTF-8') as f:\n",
    "    for line in f:\n",
    "        entities = line.split()\n",
    "        word = entities[0]\n",
    "        glove[word] = np.array(entities[1:], dtype=np.float32)"
   ]
  },
  {
   "cell_type": "code",
   "execution_count": 2,
   "metadata": {
    "collapsed": true
   },
   "outputs": [],
   "source": [
    "filename = 'glove.6B.50d.pkl'"
   ]
  },
  {
   "cell_type": "code",
   "execution_count": 4,
   "metadata": {},
   "outputs": [],
   "source": [
    "with open(filename, 'wb') as f:\n",
    "    pickle.dump(glove, f)\n",
    "    \n",
    "del glove"
   ]
  },
  {
   "cell_type": "code",
   "execution_count": 3,
   "metadata": {},
   "outputs": [],
   "source": [
    "with open(filename, 'rb') as f:\n",
    "    glove = pickle.load(f)"
   ]
  },
  {
   "cell_type": "code",
   "execution_count": 4,
   "metadata": {},
   "outputs": [
    {
     "name": "stdout",
     "output_type": "stream",
     "text": [
      "400000\n"
     ]
    }
   ],
   "source": [
    "print(len(glove.keys()))"
   ]
  },
  {
   "cell_type": "markdown",
   "metadata": {
    "collapsed": true
   },
   "source": [
    "# Keras's IMDB dataset\n",
    "Note Keras's pre-processing of the words. It already set the start_char, oov_char, and index_from."
   ]
  },
  {
   "cell_type": "code",
   "execution_count": 5,
   "metadata": {},
   "outputs": [
    {
     "name": "stderr",
     "output_type": "stream",
     "text": [
      "Using TensorFlow backend.\n"
     ]
    }
   ],
   "source": [
    "from keras.datasets import imdb"
   ]
  },
  {
   "cell_type": "code",
   "execution_count": 6,
   "metadata": {
    "collapsed": true
   },
   "outputs": [],
   "source": [
    "(x_train, y_train), (x_test, y_test) = imdb.load_data(path=\"imdb.npz\",\n",
    "                                                      num_words=None,\n",
    "                                                      skip_top=0,\n",
    "                                                      maxlen=None,\n",
    "                                                      seed=113,\n",
    "                                                      start_char=1,\n",
    "                                                      oov_char=2,\n",
    "                                                      index_from=3)"
   ]
  },
  {
   "cell_type": "code",
   "execution_count": 7,
   "metadata": {
    "collapsed": true
   },
   "outputs": [],
   "source": [
    "word_index = imdb.get_word_index()"
   ]
  },
  {
   "cell_type": "code",
   "execution_count": 8,
   "metadata": {
    "collapsed": true
   },
   "outputs": [],
   "source": [
    "word_freq = sorted(word_index, key=word_index.get)\n",
    "idx2word = {word_index[w] : w for w in word_freq}"
   ]
  },
  {
   "cell_type": "markdown",
   "metadata": {},
   "source": [
    "### Peek the IMDB comments\n",
    "\n",
    "Note to subtract the index_from and start_char"
   ]
  },
  {
   "cell_type": "code",
   "execution_count": 9,
   "metadata": {},
   "outputs": [
    {
     "data": {
      "text/plain": [
       "\"this film was just brilliant casting location scenery story direction everyone's really suited the part they played and you could just imagine being there robert redford's is an amazing actor and now the same being director norman's father came from the same scottish island as myself so i loved the fact there was a real connection with this film the witty remarks throughout the film were great it was just brilliant so much that i bought the film as soon as it was released for retail and would recommend it to everyone to watch and the fly fishing was amazing really cried at the end it was so sad and you know what they say if you cry at a film it must have been good and this definitely was also congratulations to the two little boy's that played the part's of norman and paul they were just brilliant children are often left out of the praising list i think because the stars that play them all grown up are such a big profile for the whole film but these children are amazing and should be praised for what they have done don't you think the whole story was so lovely because it was true and was someone's life after all that was shared with us all\""
      ]
     },
     "execution_count": 9,
     "metadata": {},
     "output_type": "execute_result"
    }
   ],
   "source": [
    "' '.join([idx2word[i - 3] for i in x_train[0][1:]])"
   ]
  },
  {
   "cell_type": "markdown",
   "metadata": {},
   "source": [
    "### Set the vocab size to 5k most commonly used words"
   ]
  },
  {
   "cell_type": "code",
   "execution_count": 10,
   "metadata": {
    "collapsed": true
   },
   "outputs": [],
   "source": [
    "vocab_size = 5000\n",
    "\n",
    "train = [np.array([i - 3 if i <= vocab_size - 1 + 3 else vocab_size - 1 for i in cmt[1:]]) for cmt in x_train]\n",
    "test = [np.array([i - 3 if i <= vocab_size - 1 + 3 else vocab_size - 1 for i in cmt[1:]]) for cmt in x_test]"
   ]
  },
  {
   "cell_type": "code",
   "execution_count": 11,
   "metadata": {},
   "outputs": [
    {
     "name": "stdout",
     "output_type": "stream",
     "text": [
      "this film was just brilliant casting location scenery story direction everyone's really suited the part they played and you could just imagine being there robert bergman is an amazing actor and now the same being director bergman father came from the same scottish island as myself so i loved the fact there was a real connection with this film the witty remarks throughout the film were great it was just brilliant so much that i bought the film as soon as it was released for bergman and would recommend it to everyone to watch and the fly bergman was amazing really cried at the end it was so sad and you know what they say if you cry at a film it must have been good and this definitely was also bergman to the two little bergman that played the bergman of norman and paul they were just brilliant children are often left out of the bergman list i think because the stars that play them all grown up are such a big bergman for the whole film but these children are amazing and should be bergman for what they have done don't you think the whole story was so lovely because it was true and was someone's life after all that was bergman with us all\n",
      "--------------\n",
      "how his bergman bergman as both man and ape was outstanding not to mention the scenery of the film christopher bergman was bergman as lord of bergman christopher is the soul to this masterpiece i became so with his performance i could feel my heart bergman the of the movie still moves me to this day his portrayal of john was oscar worthy as he should have been nominated for it\n"
     ]
    }
   ],
   "source": [
    "print(' '.join([idx2word[i] for i in train[0]]))\n",
    "print('--------------')\n",
    "print(' '.join([idx2word[i] for i in test[0]]))"
   ]
  },
  {
   "cell_type": "markdown",
   "metadata": {},
   "source": [
    "### Padding each review to 500\n",
    "Keras padding 0 at the beginning."
   ]
  },
  {
   "cell_type": "code",
   "execution_count": 12,
   "metadata": {
    "collapsed": true
   },
   "outputs": [],
   "source": [
    "seq_len = 500\n",
    "\n",
    "from keras.preprocessing.sequence import pad_sequences\n",
    "train = pad_sequences(train, maxlen=seq_len, value=0)\n",
    "test = pad_sequences(test, maxlen=seq_len, value=0)"
   ]
  },
  {
   "cell_type": "code",
   "execution_count": 13,
   "metadata": {},
   "outputs": [
    {
     "name": "stdout",
     "output_type": "stream",
     "text": [
      "(25000, 500)\n"
     ]
    }
   ],
   "source": [
    "print(train.shape)"
   ]
  },
  {
   "cell_type": "markdown",
   "metadata": {},
   "source": [
    "### Create embedding matrix\n",
    "Use the 400k glove vector to create an embedding matrix of IMDB movie review."
   ]
  },
  {
   "cell_type": "code",
   "execution_count": 14,
   "metadata": {},
   "outputs": [],
   "source": [
    "embedding_matrix = np.zeros((vocab_size, 50))\n",
    "\n",
    "for i in range(1, vocab_size):\n",
    "    w = idx2word[i]\n",
    "    v = glove.get(w)\n",
    "    if v is not None:\n",
    "        embedding_matrix[i] = v"
   ]
  },
  {
   "cell_type": "markdown",
   "metadata": {},
   "source": [
    "# Keras Embedding Layer\n",
    "Note that we set the embedding layer to untrainable."
   ]
  },
  {
   "cell_type": "code",
   "execution_count": 15,
   "metadata": {
    "collapsed": true
   },
   "outputs": [],
   "source": [
    "from keras.layers import Input, Flatten, Dropout, Dense, Embedding, Conv1D, MaxPooling1D, Activation\n",
    "from keras.models import Model, Sequential\n",
    "from keras.layers.normalization import BatchNormalization\n",
    "from keras.optimizers import Adam\n",
    "from keras.layers.recurrent import LSTM"
   ]
  },
  {
   "cell_type": "code",
   "execution_count": 16,
   "metadata": {},
   "outputs": [],
   "source": [
    "embedding_layer = Embedding(\n",
    "    vocab_size,\n",
    "    50,\n",
    "    weights = [embedding_matrix],\n",
    "    input_length = seq_len,\n",
    "    trainable=False # Not trainable\n",
    ")"
   ]
  },
  {
   "cell_type": "code",
   "execution_count": 17,
   "metadata": {},
   "outputs": [
    {
     "name": "stdout",
     "output_type": "stream",
     "text": [
      "_________________________________________________________________\n",
      "Layer (type)                 Output Shape              Param #   \n",
      "=================================================================\n",
      "input_1 (InputLayer)         (None, 500)               0         \n",
      "_________________________________________________________________\n",
      "embedding_1 (Embedding)      (None, 500, 50)           250000    \n",
      "_________________________________________________________________\n",
      "dropout_1 (Dropout)          (None, 500, 50)           0         \n",
      "_________________________________________________________________\n",
      "conv1d_1 (Conv1D)            (None, 500, 64)           16064     \n",
      "_________________________________________________________________\n",
      "dropout_2 (Dropout)          (None, 500, 64)           0         \n",
      "_________________________________________________________________\n",
      "max_pooling1d_1 (MaxPooling1 (None, 100, 64)           0         \n",
      "_________________________________________________________________\n",
      "flatten_1 (Flatten)          (None, 6400)              0         \n",
      "_________________________________________________________________\n",
      "dense_1 (Dense)              (None, 100)               640100    \n",
      "_________________________________________________________________\n",
      "dropout_3 (Dropout)          (None, 100)               0         \n",
      "_________________________________________________________________\n",
      "dense_2 (Dense)              (None, 1)                 101       \n",
      "=================================================================\n",
      "Total params: 906,265\n",
      "Trainable params: 656,265\n",
      "Non-trainable params: 250,000\n",
      "_________________________________________________________________\n"
     ]
    }
   ],
   "source": [
    "sequence_input = Input(shape=(seq_len,), dtype=np.int32)\n",
    "embedded_sequences = embedding_layer(sequence_input)\n",
    "x = Dropout(.25)(embedded_sequences)\n",
    "x = Conv1D(64, 5, padding='same', activation='relu')(x)\n",
    "x = Dropout(.25)(x)\n",
    "x = MaxPooling1D(5)(x)\n",
    "x = Flatten()(x)\n",
    "x = Dense(100, activation='relu')(x)\n",
    "x = Dropout(.7)(x)\n",
    "y = Dense(1, activation='sigmoid')(x)\n",
    "\n",
    "model = Model(sequence_input, y)\n",
    "model.summary()"
   ]
  },
  {
   "cell_type": "code",
   "execution_count": 18,
   "metadata": {
    "collapsed": true
   },
   "outputs": [],
   "source": [
    "model.compile(\n",
    "    loss='binary_crossentropy',\n",
    "    optimizer='adam',\n",
    "    metrics=['acc']\n",
    ")"
   ]
  },
  {
   "cell_type": "code",
   "execution_count": 19,
   "metadata": {},
   "outputs": [
    {
     "name": "stdout",
     "output_type": "stream",
     "text": [
      "Train on 25000 samples, validate on 25000 samples\n",
      "Epoch 1/10\n",
      "25000/25000 [==============================] - 14s - loss: 0.6505 - acc: 0.6002 - val_loss: 0.4918 - val_acc: 0.7863\n",
      "Epoch 2/10\n",
      "25000/25000 [==============================] - 13s - loss: 0.4890 - acc: 0.7714 - val_loss: 0.4232 - val_acc: 0.8155\n",
      "Epoch 3/10\n",
      "25000/25000 [==============================] - 13s - loss: 0.4470 - acc: 0.7969 - val_loss: 0.4022 - val_acc: 0.8282\n",
      "Epoch 4/10\n",
      "25000/25000 [==============================] - 13s - loss: 0.4271 - acc: 0.8074 - val_loss: 0.3852 - val_acc: 0.8314\n",
      "Epoch 5/10\n",
      "25000/25000 [==============================] - 13s - loss: 0.4128 - acc: 0.8154 - val_loss: 0.3893 - val_acc: 0.8383\n",
      "Epoch 6/10\n",
      "25000/25000 [==============================] - 13s - loss: 0.3958 - acc: 0.8236 - val_loss: 0.3694 - val_acc: 0.8405\n",
      "Epoch 7/10\n",
      "25000/25000 [==============================] - 13s - loss: 0.3829 - acc: 0.8302 - val_loss: 0.3673 - val_acc: 0.8449\n",
      "Epoch 8/10\n",
      "25000/25000 [==============================] - 13s - loss: 0.3726 - acc: 0.8352 - val_loss: 0.3694 - val_acc: 0.8426\n",
      "Epoch 9/10\n",
      "25000/25000 [==============================] - 13s - loss: 0.3610 - acc: 0.8419 - val_loss: 0.3618 - val_acc: 0.8422\n",
      "Epoch 10/10\n",
      "25000/25000 [==============================] - 13s - loss: 0.3519 - acc: 0.8464 - val_loss: 0.3581 - val_acc: 0.8454\n"
     ]
    }
   ],
   "source": [
    "history = model.fit(train, y_train, epochs=10, validation_data=(test, y_test))"
   ]
  },
  {
   "cell_type": "code",
   "execution_count": 20,
   "metadata": {},
   "outputs": [
    {
     "data": {
      "image/png": "[encoded data removed]",
      "text/plain": [
       "<matplotlib.figure.Figure at 0x19347f78a90>"
      ]
     },
     "metadata": {},
     "output_type": "display_data"
    }
   ],
   "source": [
    "plt.plot(history.history['acc'])\n",
    "plt.plot(history.history['val_acc'])\n",
    "plt.title('model accuracy')\n",
    "plt.ylabel('accuracy')\n",
    "plt.xlabel('epoch')\n",
    "plt.legend(['train', 'val'], loc='upper left')\n",
    "plt.show()"
   ]
  },
  {
   "cell_type": "code",
   "execution_count": null,
   "metadata": {
    "collapsed": true
   },
   "outputs": [],
   "source": []
  }
 ],
 "metadata": {
  "kernelspec": {
   "display_name": "Python 3",
   "language": "python",
   "name": "python3"
  },
  "language_info": {
   "codemirror_mode": {
    "name": "ipython",
    "version": 3
   },
   "file_extension": ".py",
   "mimetype": "text/x-python",
   "name": "python",
   "nbconvert_exporter": "python",
   "pygments_lexer": "ipython3",
   "version": "3.6.1"
  }
 },
 "nbformat": 4,
 "nbformat_minor": 2
}
