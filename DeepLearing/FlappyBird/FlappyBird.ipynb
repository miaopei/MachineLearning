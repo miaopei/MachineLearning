{
 "cells": [
  {
   "cell_type": "markdown",
   "metadata": {},
   "source": [
    "# Flappy Bird\n",
    "\n",
    "在此示例中，你将看到一个深度学习代理在玩 Flappy Bird！你可以自己训练该代理，但是现在我们先开始使用作者提供的预先训练好的网络。注意，下面的代理能够直接玩游戏，不用告诉它关于游戏结构或规则的任何信息。它会通过查看每次循环时的操作流程，自动发现游戏规则。\n",
    "\n",
    "我们将使用 [此 GitHub 代码库](https://github.com/yenchenlin/DeepLearningFlappyBird)（作者：Yenchen Lin）"
   ]
  },
  {
   "cell_type": "markdown",
   "metadata": {},
   "source": [
    "![](https://s3.cn-north-1.amazonaws.com.cn/u-img/09e36dde-02ab-4a25-bd2d-f7d2f0334ab7)"
   ]
  },
  {
   "cell_type": "markdown",
   "metadata": {},
   "source": [
    "## 说明\n",
    "\n",
    "1. 安装 miniconda 或 anaconda（如果尚未安装的话）。你可以按照我们在前一课的教程操作。\n",
    "\n",
    "2. 为 flappybird 创建一个环境\n",
    "    * Mac/Linux：conda create --name=flappybird python=2.7\n",
    "    * Windows：conda create --name=flappybird python=3.5\n",
    "\n",
    "3. 进入你的 conda 环境\n",
    "    * Mac/Linux：source activate flappybird\n",
    "    * Windows：activate flappybird\n",
    "\n",
    "4. conda install -c menpo opencv3\n",
    "\n",
    "5. pip install pygame\n",
    "\n",
    "6. pip install tensorflow\n",
    "\n",
    "7. git clone https://github.com/yenchenlin/DeepLearningFlappyBird.git\n",
    "\n",
    "8. cd DeepLearningFlappyBird\n",
    "\n",
    "9. python deep_q_network.py\n",
    "\n",
    "如果一切正常，你应该会看到一个基于深度学习的代理在玩 Flappy Bird！资源库中包含了训练你自己的代理的说明，如果你感兴趣的话！"
   ]
  },
  {
   "cell_type": "code",
   "execution_count": null,
   "metadata": {
    "collapsed": true
   },
   "outputs": [],
   "source": []
  }
 ],
 "metadata": {
  "kernelspec": {
   "display_name": "Python 3",
   "language": "python",
   "name": "python3"
  },
  "language_info": {
   "codemirror_mode": {
    "name": "ipython",
    "version": 3
   },
   "file_extension": ".py",
   "mimetype": "text/x-python",
   "name": "python",
   "nbconvert_exporter": "python",
   "pygments_lexer": "ipython3",
   "version": "3.5.4"
  }
 },
 "nbformat": 4,
 "nbformat_minor": 1
}
