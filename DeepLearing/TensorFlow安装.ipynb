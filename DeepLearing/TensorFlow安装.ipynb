{
 "cells": [
  {
   "cell_type": "markdown",
   "metadata": {},
   "source": [
    "# TensorFlow\n",
    "\n",
    "我们将使用 TensorFlow™, 一个由谷歌开发的开源库，整个课程将使用它构建机器学习模型。我们会用 Python 2.7 和你应该已经熟悉的 jupyter notebooks 进行编程。\n",
    "\n",
    "## 下载和安装\n",
    "\n",
    "在你的电脑上安装 TensorFlow（只针对 Linux 或者 Mac OS X ）， 然后单独获取作业代码\n",
    "根据说明 [下载和安装 TensorFlow](https://www.tensorflow.org/versions/master/get_started/os_setup.html#download-and-setup). 选择以下三种方法中的一种进行安装:\n",
    "\n",
    "* Pip: 在你的电脑上直接安装 TensorFlow 。你需要已经安装好 Python 2.7 和 pip ，这个方法可能会对你已经存在的其他 Python 包产生影响。\n",
    "\n",
    "* Virtualenv: 在一个隔离的（虚拟的） Python 环境中安装 TensorFlow 。 你需要已经安装好 Python 2.7 和 pip ； 这个方法将不会对你其他环境的 Python 包产生影响。\n",
    "\n",
    "* Docker: 在你电脑上的一个隔离的 Docker 容器（虚拟机） 上运行 TensorFlow 。 你需要安装 Vagrant 、 Docker 和 虚拟化软件（比如 VirtualBox ）；这个方法将使 TensorFlow 和你电脑的其他资源保持独立，但是运行需要消耗更多的内存。\n",
    "\n",
    "## OS X 或 Linux\n",
    "\n",
    "运行下列命令来配置开发环境\n",
    "\n",
    "```shell\n",
    "conda create -n tensorflow python=3.5\n",
    "source activate tensorflow\n",
    "conda install pandas matplotlib jupyter notebook scipy scikit-learn\n",
    "conda install -c conda-forge tensorflow\n",
    "```"
   ]
  },
  {
   "cell_type": "code",
   "execution_count": null,
   "metadata": {
    "collapsed": true
   },
   "outputs": [],
   "source": []
  }
 ],
 "metadata": {
  "kernelspec": {
   "display_name": "Python 3",
   "language": "python",
   "name": "python3"
  },
  "language_info": {
   "codemirror_mode": {
    "name": "ipython",
    "version": 3
   },
   "file_extension": ".py",
   "mimetype": "text/x-python",
   "name": "python",
   "nbconvert_exporter": "python",
   "pygments_lexer": "ipython3",
   "version": "3.5.4"
  }
 },
 "nbformat": 4,
 "nbformat_minor": 1
}
