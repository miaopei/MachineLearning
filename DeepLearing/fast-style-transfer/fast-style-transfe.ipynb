{
 "cells": [
  {
   "cell_type": "markdown",
   "metadata": {},
   "source": [
    "# 风格迁移\n",
    "\n",
    "为了展示深度学习模型可以实现的各种功能，我们现在来研究一个非常有趣的项目，叫做[快速风格迁移](https://github.com/lengstrom/fast-style-transfer)。通过风格迁移，你可以按照著名的画作重新创建风格一样的图片！神经网络会学习这些画作采用的技巧，并学会如何自己应用这些绘画技巧。此模型根据著名画作的风格进行了训练，能够将这些风格迁移到其他图片上，[甚至视频上](https://www.youtube.com/watch?v=xVJwwWQlQ1o)！\n",
    "\n",
    "我用该模型对我的猫咪 Chihiro 的图片进行了风格迁移，采用的是 [Hokusai](https://en.wikipedia.org/wiki/Hokusai) 的 [The Great Wave Off Kanagawa。](https://en.wikipedia.org/wiki/The_Great_Wave_off_Kanagawa)"
   ]
  },
  {
   "cell_type": "markdown",
   "metadata": {},
   "source": [
    "![](https://s3.cn-north-1.amazonaws.com.cn/u-img/872d63ad-51a9-4f1c-8b22-4c17d96779b4)"
   ]
  },
  {
   "cell_type": "markdown",
   "metadata": {},
   "source": [
    "要自己试一下，你可以在 [fast-style-transfer GitHub](https://github.com/lengstrom/fast-style-transfer) 资源库 中找到相关代码。你可以使用 git 克隆该资源库，或将整个资源库下载为 Zip 归档文件，并解压。\n",
    "\n",
    "该神经网络按照([此处](https://github.com/lengstrom/fast-style-transfer/tree/master/examples/style))的几种不同风格进行了训练，并保存在[检查点文件](https://drive.google.com/drive/folders/0B9jhaT37ydSyRk9UX0wwX3BpMzQ)中。检查点文件包含了关于已训练神经网络的所有信息，可以将风格应用到新的图片上。\n",
    "\n",
    "## 1. 依赖项\n",
    "\n",
    "安装运行该代码所需的所有程序包的最简单方式是使用 Miniconda，它是更简版本的 Anaconda。 Miniconda 自带了 Conda，后者是专门用于数据科学的程序包和环境管理器。请安装适合你的操作系统的 Python 3 版本的 Miniconda。\n",
    "\n",
    "如果你之前没有使用过 Conda，请快速阅读我们在上一课的教程。\n",
    "\n",
    "OS X 和 Linux\n",
    "对于 OS X 和 Linux，你需要安装 TensorFlow 0.11.0、Python 2.7.9、Pillow 3.4.2、scipy 0.18.1 和 numpy 1.11.2.\n",
    "\n",
    "在终端里，逐行输入以下命令：\n",
    "\n",
    "```shell\n",
    "conda create -n style-transfer python=2.7.9\n",
    "source activate style-transfer\n",
    "pip install tensorflow\n",
    "conda install scipy pillow\n",
    "```\n",
    "\n",
    "第一行创建一个新的环境，其中存储了格式迁移代码所需的程序包。第二行 (source activate style-transfer) 进入该环境，你应该会在提示符窗口的开头看到环境名称。接下来的两行负责安装 TensorFlow、Scipy 和 Pillow（一种图像处理库）。\n",
    "\n",
    "## 迁移风格\n",
    "\n",
    "1. 从 [fast-style-transfer](https://github.com/lengstrom/fast-style-transfer) 资源库中下载 Zip 归档文件并解压。你可以通过点击右侧的亮绿色按钮进行下载。\n",
    "\n",
    "2. 从[此处](https://s3.cn-north-1.amazonaws.com.cn/static-documents/nd009/rain-princess.ckpt)下载 Rain Princess 检查点，将其放在 fast-style-transfer 文件夹中。检查点文件是已经调谐参数的模型。使用此检查点文件后我们不需要再训练该模型，可以直接使用。\n",
    "\n",
    "3. 将你要调整格式的图片放到 fast-style-transfer 文件夹。\n",
    "\n",
    "4. 进入你之前创建的 Conda 环境（如果不在里面的话）。\n",
    "\n",
    "5. 在终端里，转到 fast-style-transfer 文件夹并输入\n",
    "\n",
    "```shell\n",
    "python evaluate.py --checkpoint ./rain-princess.ckpt --in-path <path_to_input_file> --out-path ./output_image.jpg\n",
    "```\n",
    "\n",
    "> **注意：**你的检查点文件可能名称为 rain_princess.ckpt，注意是下划线，而不是上面的连字符。\n",
    "\n",
    "> **注意：**要留意输入图片的大小，风格迁移在运行大型文件时，会花费很长的时间。"
   ]
  },
  {
   "cell_type": "code",
   "execution_count": null,
   "metadata": {
    "collapsed": true
   },
   "outputs": [],
   "source": []
  }
 ],
 "metadata": {
  "kernelspec": {
   "display_name": "Python 3",
   "language": "python",
   "name": "python3"
  },
  "language_info": {
   "codemirror_mode": {
    "name": "ipython",
    "version": 3
   },
   "file_extension": ".py",
   "mimetype": "text/x-python",
   "name": "python",
   "nbconvert_exporter": "python",
   "pygments_lexer": "ipython3",
   "version": "3.5.4"
  }
 },
 "nbformat": 4,
 "nbformat_minor": 1
}
