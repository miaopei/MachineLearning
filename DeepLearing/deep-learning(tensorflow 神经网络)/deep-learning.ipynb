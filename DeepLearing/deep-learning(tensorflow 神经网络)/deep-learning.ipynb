{
 "cells": [
  {
   "cell_type": "markdown",
   "metadata": {},
   "source": [
    "# TensorFlow Lab\n",
    "\n",
    "## 1. 获取 notebook\n",
    "\n",
    "notebook 和所有相关的文件都可以在我们的 [GitHub repo](https://github.com/udacity/deep-learning) 里获得。你可以 clone 这个目录，或者下载 Zip 文件。\n",
    "\n",
    "用 Git clone：\n",
    "\n",
    "```shell\n",
    "git clone https://github.com/udacity/deep-learning.git\n",
    "```\n",
    "\n",
    "## 2. OS X 和 Linux 指导\n",
    "\n",
    "我们提供了一个 Conda 环境配置文件，这样你可以很方便的安装各种包，在 `intro-to-tensorflow` 目录中，键入\n",
    "\n",
    "```shell\n",
    "conda env create -f environment.yml\n",
    "```\n",
    "\n",
    "它将帮你创建一个叫 dlnd-tf-lab 的虚拟环境，进入这个环境，只要键入\n",
    "\n",
    "```shell\n",
    "source activate dlnd-tf-lab\n",
    "```\n",
    "\n",
    "所有需要的包就都装好了。"
   ]
  },
  {
   "cell_type": "code",
   "execution_count": null,
   "metadata": {
    "collapsed": true
   },
   "outputs": [],
   "source": []
  }
 ],
 "metadata": {
  "kernelspec": {
   "display_name": "Python 3",
   "language": "python",
   "name": "python3"
  },
  "language_info": {
   "codemirror_mode": {
    "name": "ipython",
    "version": 3
   },
   "file_extension": ".py",
   "mimetype": "text/x-python",
   "name": "python",
   "nbconvert_exporter": "python",
   "pygments_lexer": "ipython3",
   "version": "3.5.4"
  }
 },
 "nbformat": 4,
 "nbformat_minor": 1
}
